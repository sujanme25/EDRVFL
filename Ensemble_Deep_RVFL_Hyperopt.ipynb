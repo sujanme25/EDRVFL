{
 "cells": [
  {
   "cell_type": "code",
   "execution_count": 36,
   "id": "bee222c1",
   "metadata": {},
   "outputs": [],
   "source": [
    "import numpy as np\n",
    "import pandas as pd\n",
    "from sklearn.model_selection import train_test_split\n",
    "from sklearn.metrics import accuracy_score\n",
    "from sklearn.metrics import mean_squared_error\n",
    "from sklearn.preprocessing import MinMaxScaler"
   ]
  },
  {
   "cell_type": "code",
   "execution_count": 37,
   "id": "f7daad11",
   "metadata": {},
   "outputs": [],
   "source": [
    "class EnsembleDeepRVFL:\n",
    "    \"\"\"A ensemble deep RVFL classifier or regression.\n",
    "    Attributes:\n",
    "        n_nodes: An integer of enhancement node number.\n",
    "        lam: A floating number of regularization parameter.\n",
    "        w_random_vec_range: A list, [min, max], the range of generating random weights.\n",
    "        b_random_vec_range: A list, [min, max], the range of generating random bias.\n",
    "        random_weights: A Numpy array shape is [n_feature, n_nodes], weights of neuron.\n",
    "        random_bias: A Numpy array shape is [n_nodes], bias of neuron.\n",
    "        beta: A Numpy array shape is [n_feature + n_nodes, n_class], the projection matrix.\n",
    "        activation: A string of activation name.\n",
    "        n_layer: A integer, N=number of hidden layers.\n",
    "        data_std: A list, store normalization parameters for each layer.\n",
    "        data_mean: A list, store normalization parameters for each layer.\n",
    "        same_feature: A bool, the true means all the features have same meaning and boundary for example: images.\n",
    "        task_type: A string of ML task type, 'classification' or 'regression'.\n",
    "    \"\"\"\n",
    "    def __init__(self, n_nodes, lam, w_random_vec_range, b_random_vec_range, activation, n_layer, same_feature=False,\n",
    "                 task_type='classification'):\n",
    "        assert task_type in ['classification', 'regression'], 'task_type should be \"classification\" or \"regression\".'\n",
    "        self.n_nodes = n_nodes\n",
    "        self.lam = lam\n",
    "        self.w_random_range = w_random_vec_range\n",
    "        self.b_random_range = b_random_vec_range\n",
    "        self.random_weights = []\n",
    "        self.random_bias = []\n",
    "        self.beta = []\n",
    "        a = Activation()\n",
    "        self.activation_function = getattr(a, activation)\n",
    "        self.n_layer = n_layer\n",
    "        self.data_std = [None] * self.n_layer\n",
    "        self.data_mean = [None] * self.n_layer\n",
    "        self.same_feature = same_feature\n",
    "        self.task_type = task_type\n",
    "\n",
    "    def train(self, data, label, n_class):\n",
    "        \"\"\"\n",
    "        :param data: Training data.\n",
    "        :param label: Training label.\n",
    "        :param n_class: An integer of number of class. In regression, this parameter won't be used.\n",
    "        :return: No return\n",
    "        \"\"\"\n",
    "\n",
    "        assert len(data.shape) > 1, 'Data shape should be [n, dim].'\n",
    "        assert len(data) == len(label), 'Label number does not match data number.'\n",
    "        assert len(label.shape) == 1, 'Label should be 1-D array.'\n",
    "\n",
    "        n_sample = len(data)\n",
    "        n_feature = len(data[0])\n",
    "        h = data.copy()\n",
    "        data = self.standardize(data, 0)\n",
    "        if self.task_type == 'classification':\n",
    "            y = self.one_hot(label, n_class)\n",
    "        else:\n",
    "            y = label\n",
    "        for i in range(self.n_layer):\n",
    "            h = self.standardize(h, i)  # Normalization data\n",
    "            self.random_weights.append(self.get_random_vectors(len(h[0]), self.n_nodes, self.w_random_range))\n",
    "            self.random_bias.append(self.get_random_vectors(1, self.n_nodes, self.b_random_range))\n",
    "            h = self.activation_function(np.dot(h, self.random_weights[i]) + np.dot(np.ones([n_sample, 1]),\n",
    "                                                                                    self.random_bias[i]))\n",
    "            d = np.concatenate([h, data], axis=1)\n",
    "\n",
    "            h = d\n",
    "\n",
    "            d = np.concatenate([d, np.ones_like(d[:, 0:1])], axis=1)\n",
    "\n",
    "            if n_sample > (self.n_nodes + n_feature):\n",
    "                self.beta.append(np.linalg.inv((self.lam * np.identity(d.shape[1]) + np.dot(d.T, d))).dot(d.T).dot(y))\n",
    "            else:\n",
    "                self.beta.append(d.T.dot(np.linalg.inv(self.lam * np.identity(n_sample) + np.dot(d, d.T))).dot(y))\n",
    "\n",
    "    def predict(self, data, output_prob=False):\n",
    "        \"\"\"\n",
    "        :param data: Predict data.\n",
    "        :return: When classification, return vote result,  addition result and probability.\n",
    "                 When regression, return the mean output of edrvfl.\n",
    "        \"\"\"\n",
    "        n_sample = len(data)\n",
    "        h = data.copy()\n",
    "        data = self.standardize(data, 0)  # Normalization data\n",
    "        outputs = []\n",
    "        for i in range(self.n_layer):\n",
    "            h = self.standardize(h, i)  # Normalization data\n",
    "            h = self.activation_function(np.dot(h, self.random_weights[i]) + np.dot(np.ones([n_sample, 1]),\n",
    "                                                                                    self.random_bias[i]))\n",
    "            d = np.concatenate([h, data], axis=1)\n",
    "\n",
    "            h = d\n",
    "\n",
    "            d = np.concatenate([d, np.ones_like(d[:, 0:1])], axis=1)\n",
    "            outputs.append(np.dot(d, self.beta[i]))\n",
    "        if self.task_type == 'classification':\n",
    "            vote_res = [np.argmax(item, axis=1) for item in outputs]\n",
    "            vote_res = list(map(np.bincount, list(np.array(vote_res).transpose())))\n",
    "            vote_res = np.array(list(map(np.argmax, vote_res)))\n",
    "\n",
    "            add_proba = self.softmax(np.sum(outputs, axis=0))\n",
    "            add_res = np.argmax(add_proba, axis=1)\n",
    "            return vote_res, (add_res, add_proba)\n",
    "        elif self.task_type == 'regression':\n",
    "            return np.mean(outputs, axis=0)\n",
    "\n",
    "\n",
    "    def eval(self, data, label):\n",
    "        \"\"\"\n",
    "        :param data: Evaluation data.\n",
    "        :param label: Evaluation label.\n",
    "        :return: When classification return vote and addition accuracy.\n",
    "                 When regression return MAE.\n",
    "        \"\"\"\n",
    "\n",
    "        assert len(data.shape) > 1, 'Data shape should be [n, dim].'\n",
    "        assert len(data) == len(label), 'Label number does not match data number.'\n",
    "        assert len(label.shape) == 1, 'Label should be 1-D array.'\n",
    "\n",
    "        n_sample = len(data)\n",
    "        h = data.copy()\n",
    "        data = self.standardize(data, 0)\n",
    "        outputs = []\n",
    "        for i in range(self.n_layer):\n",
    "            h = self.standardize(h, i)  # Normalization data\n",
    "\n",
    "            h = self.activation_function(np.dot(h, self.random_weights[i]) + np.dot(np.ones([n_sample, 1]),\n",
    "                                                                                    self.random_bias[i]))\n",
    "            d = np.concatenate([h, data], axis=1)\n",
    "\n",
    "            h = d\n",
    "\n",
    "            d = np.concatenate([d, np.ones_like(d[:, 0:1])], axis=1)\n",
    "\n",
    "            outputs.append(np.dot(d, self.beta[i]))\n",
    "        if self.task_type == 'classification':\n",
    "            vote_res = [np.argmax(item, axis=1) for item in outputs]\n",
    "            vote_res = list(map(np.bincount, list(np.array(vote_res).transpose())))\n",
    "            vote_res = np.array(list(map(np.argmax, vote_res)))\n",
    "            vote_acc = np.sum(np.equal(vote_res, label)) / len(label)\n",
    "\n",
    "            add_proba = self.softmax(np.sum(outputs, axis=0))\n",
    "            add_res = np.argmax(add_proba, axis=1)\n",
    "            add_acc = np.sum(np.equal(add_res, label)) / len(label)\n",
    "\n",
    "            return vote_acc, add_acc\n",
    "        elif self.task_type == 'regression':\n",
    "            pred = np.mean(outputs, axis=0)\n",
    "            mae = np.mean(np.abs(pred - label))\n",
    "            return mae\n",
    "\n",
    "    @staticmethod\n",
    "    def get_random_vectors(m, n, scale_range):\n",
    "        x = (scale_range[1] - scale_range[0]) * np.random.random([m, n]) + scale_range[0]\n",
    "        return x\n",
    "\n",
    "    @staticmethod\n",
    "    def one_hot(x, n_class):\n",
    "        y = np.zeros([len(x), n_class])\n",
    "        for i in range(len(x)):\n",
    "            y[i, x[i]] = 1\n",
    "        return y\n",
    "\n",
    "    def standardize(self, x, index):\n",
    "        if self.same_feature is True:\n",
    "            if self.data_std[index] is None:\n",
    "                self.data_std[index] = np.maximum(np.std(x), 1/np.sqrt(len(x)))\n",
    "            if self.data_mean[index] is None:\n",
    "                self.data_mean[index] = np.mean(x)\n",
    "            return (x - self.data_mean[index]) / self.data_std[index]\n",
    "        else:\n",
    "            if self.data_std[index] is None:\n",
    "                self.data_std[index] = np.maximum(np.std(x, axis=0), 1/np.sqrt(len(x)))\n",
    "            if self.data_mean[index] is None:\n",
    "                self.data_mean[index] = np.mean(x, axis=0)\n",
    "            return (x - self.data_mean[index]) / self.data_std[index]\n",
    "\n",
    "    @staticmethod\n",
    "    def softmax(x):\n",
    "        return np.exp(x) / np.repeat((np.sum(np.exp(x), axis=1))[:, np.newaxis], len(x[0]), axis=1)\n",
    "\n",
    "\n",
    "class Activation:\n",
    "    @staticmethod\n",
    "    def sigmoid(x):\n",
    "        return 1 / (1 + np.e ** (-x))\n",
    "\n",
    "    @staticmethod\n",
    "    def sine(x):\n",
    "        return np.sin(x)\n",
    "\n",
    "    @staticmethod\n",
    "    def hardlim(x):\n",
    "        return (np.sign(x) + 1) / 2\n",
    "\n",
    "    @staticmethod\n",
    "    def tribas(x):\n",
    "        return np.maximum(1 - np.abs(x), 0)\n",
    "\n",
    "    @staticmethod\n",
    "    def radbas(x):\n",
    "        return np.exp(-(x**2))\n",
    "\n",
    "    @staticmethod\n",
    "    def sign(x):\n",
    "        return np.sign(x)\n",
    "\n",
    "    @staticmethod\n",
    "    def relu(x):\n",
    "        return np.maximum(0, x)\n",
    "\n",
    "    @staticmethod\n",
    "    def leaky_relu(x):\n",
    "        x[x >= 0] = x[x >= 0]\n",
    "        x[x < 0] = x[x < 0] / 10.0\n",
    "        return x\n"
   ]
  },
  {
   "cell_type": "code",
   "execution_count": 38,
   "id": "deeec1b4",
   "metadata": {},
   "outputs": [],
   "source": [
    "num_nodes = 10  # Number of enhancement nodes.\n",
    "regular_para = 0.001  # Regularization parameter.\n",
    "weight_random_range = [-1, 1]  # Range of random weights.\n",
    "bias_random_range = [0, 1]  # Range of random weights.\n",
    "num_layer = 5  # Number of hidden layers\n",
    "deep_rvfl = EnsembleDeepRVFL(n_nodes=num_nodes, lam=regular_para, w_random_vec_range=weight_random_range,\n",
    "                     b_random_vec_range=bias_random_range, activation='relu', n_layer=num_layer, same_feature=False,\n",
    "                     task_type='regression')"
   ]
  },
  {
   "cell_type": "code",
   "execution_count": 39,
   "id": "aed5a687",
   "metadata": {},
   "outputs": [],
   "source": [
    "# Load your stock price data\n",
    "# Assuming your dataset has a 'Date' and 'Close' column\n",
    "# Adjust this based on your actual dataset structure\n",
    "df = pd.read_csv('apple_stocks_with_sentiment10.csv', parse_dates=['Date'])\n",
    "data = df[['Close']]\n",
    "\n",
    "# Normalize the data\n",
    "scaler = MinMaxScaler()\n",
    "data_scaled = scaler.fit_transform(data)\n",
    "y=data_scaled.copy()\n",
    "y = y.reshape(-1)\n",
    "lag = 10  # Adjust the lag as needed\n",
    "\n",
    "# Create lagged sequences of y as input features\n",
    "X = np.array([y[i:i+lag] for i in range(len(y)-lag)])\n",
    "\n",
    "# Corresponding target variable (shifted by lag)\n",
    "y = y[lag:]\n",
    "\n",
    "# Train-test split\n",
    "X_train, X_test, y_train, y_test = train_test_split(X, y, test_size=0.2, random_state=42,shuffle=False)\n",
    "\n",
    "# Train the model\n",
    "deep_rvfl.train(X_train, y_train,0)\n",
    "\n",
    "# Make predictions\n",
    "predictions = deep_rvfl.predict(X_test)\n",
    "\n",
    "# Inverse transform the predictions to the original scale\n",
    "predictions_original_scale = scaler.inverse_transform(predictions.reshape(-1, 1))\n",
    "\n",
    "# Inverse transform the y_test to the original scale for evaluation\n",
    "y_test_original_scale = scaler.inverse_transform(y_test.reshape(-1, 1))\n"
   ]
  },
  {
   "cell_type": "code",
   "execution_count": 40,
   "id": "bafe1228",
   "metadata": {},
   "outputs": [
    {
     "data": {
      "image/png": "[encoded data removed]",
      "text/plain": [
       "<Figure size 1200x600 with 1 Axes>"
      ]
     },
     "metadata": {},
     "output_type": "display_data"
    }
   ],
   "source": [
    "import matplotlib.pyplot as plt\n",
    "# Plotting the results\n",
    "plt.figure(figsize=(12, 6))\n",
    "plt.plot(y_test_original_scale, label='Actual Closing Price', color='blue')\n",
    "plt.plot(predictions_original_scale, label='Predicted Closing Price', color='red', linestyle='dashed')\n",
    "plt.title('Actual vs Predicted Closing Price')\n",
    "plt.xlabel('Data Points')\n",
    "plt.ylabel('Closing Price')\n",
    "plt.legend()\n",
    "plt.show()"
   ]
  },
  {
   "cell_type": "code",
   "execution_count": 41,
   "id": "b7ad4cae",
   "metadata": {},
   "outputs": [
    {
     "name": "stderr",
     "output_type": "stream",
     "text": [
      "C:\\Users\\SUJAN\\AppData\\Roaming\\Python\\Python311\\site-packages\\numpy\\lib\\function_base.py:2889: RuntimeWarning: Degrees of freedom <= 0 for slice\n",
      "  c = cov(x, y, rowvar, dtype=dtype)\n",
      "C:\\Users\\SUJAN\\AppData\\Roaming\\Python\\Python311\\site-packages\\numpy\\lib\\function_base.py:2748: RuntimeWarning: divide by zero encountered in divide\n",
      "  c *= np.true_divide(1, fact)\n",
      "C:\\Users\\SUJAN\\AppData\\Roaming\\Python\\Python311\\site-packages\\numpy\\lib\\function_base.py:2748: RuntimeWarning: invalid value encountered in multiply\n",
      "  c *= np.true_divide(1, fact)\n"
     ]
    }
   ],
   "source": [
    "from sklearn.metrics import mean_squared_error, mean_absolute_error, r2_score\n",
    "y_test=y_test_original_scale\n",
    "predictions=predictions_original_scale\n",
    "# Calculate Root Mean Squared Error (RMSE)\n",
    "rmse = np.sqrt(mean_squared_error(y_test, predictions))\n",
    "\n",
    "# Calculate Mean Squared Error (MSE)\n",
    "mse = mean_squared_error(y_test, predictions)\n",
    "\n",
    "# Calculate Relative Root Mean Squared Error (RRMSE)\n",
    "rrmse = rmse / np.mean(y_test)\n",
    "\n",
    "# Calculate Relative Mean Absolute Error (RMAE)\n",
    "rmae = mean_absolute_error(y_test, predictions) / np.mean(y_test)\n",
    "\n",
    "# Theil's U Statistic\n",
    "theil_u = np.sqrt(np.mean((predictions - y_test) ** 2) / np.mean(y_test ** 2))\n",
    "\n",
    "# Kling-Gupta Efficiency (KGE)\n",
    "def kge(y_true, y_pred):\n",
    "    std_true, std_pred = np.std(y_true), np.std(y_pred)\n",
    "    mean_true, mean_pred = np.mean(y_true), np.mean(y_pred)\n",
    "    correlation = np.corrcoef(y_true, y_pred)[0, 1]\n",
    "    kge_value = 1 - np.sqrt((correlation - 1) ** 2 + (std_pred / std_true - 1) ** 2 + (mean_pred / mean_true - 1) ** 2)\n",
    "    return kge_value\n",
    "\n",
    "kge_value = kge(y_test, predictions)\n",
    "\n",
    "# Absolute Percentage Bias (APB)\n",
    "apb = np.mean(np.abs((y_test - predictions) / y_test)) * 100\n",
    "\n",
    "# Legates metric\n",
    "legates_metric = 1 - (np.sum((y_test - predictions) ** 2) / np.sum((np.abs(predictions - np.mean(y_test)) + np.abs(y_test - np.mean(y_test))) ** 2))\n",
    "\n",
    "# Nash-Sutcliffe Efficiency (NSE)\n",
    "nse = 1 - np.sum((y_test - predictions) ** 2) / np.sum((y_test - np.mean(y_test)) ** 2)\n",
    "\n",
    "# Willmott's Index of Agreement (d)\n",
    "d = 1 - (np.sum((np.abs(y_test - predictions)) ** 2) / np.sum((np.abs(predictions - np.mean(y_test)) + np.abs(y_test - np.mean(y_test))) ** 2))\n",
    "\n",
    "# Standard Deviation of Error (SDE)\n",
    "sde = np.std(y_test - predictions)\n",
    "\n",
    "# Maximum Error\n",
    "max_error = np.max(np.abs(y_test - predictions))\n",
    "\n",
    "# Minimum Error\n",
    "min_error = np.min(np.abs(y_test - predictions))\n",
    "\n",
    "# Calculate Mean Absolute Error (MAE)\n",
    "mae = mean_absolute_error(y_test, predictions)\n",
    "\n",
    "# Calculate R-squared (R2) score\n",
    "r2 = r2_score(y_test, predictions)"
   ]
  },
  {
   "cell_type": "code",
   "execution_count": 42,
   "id": "77bef385",
   "metadata": {},
   "outputs": [
    {
     "data": {
      "text/html": [
       "<div>\n",
       "<style scoped>\n",
       "    .dataframe tbody tr th:only-of-type {\n",
       "        vertical-align: middle;\n",
       "    }\n",
       "\n",
       "    .dataframe tbody tr th {\n",
       "        vertical-align: top;\n",
       "    }\n",
       "\n",
       "    .dataframe thead th {\n",
       "        text-align: right;\n",
       "    }\n",
       "</style>\n",
       "<table border=\"1\" class=\"dataframe\">\n",
       "  <thead>\n",
       "    <tr style=\"text-align: right;\">\n",
       "      <th></th>\n",
       "      <th>Metric</th>\n",
       "      <th>Value</th>\n",
       "    </tr>\n",
       "  </thead>\n",
       "  <tbody>\n",
       "    <tr>\n",
       "      <th>0</th>\n",
       "      <td>Root Mean Squared Error (RMSE)</td>\n",
       "      <td>1.572</td>\n",
       "    </tr>\n",
       "    <tr>\n",
       "      <th>1</th>\n",
       "      <td>Mean Squared Error (MSE)</td>\n",
       "      <td>2.471</td>\n",
       "    </tr>\n",
       "    <tr>\n",
       "      <th>2</th>\n",
       "      <td>Mean Absolute Error (MAE)</td>\n",
       "      <td>1.005</td>\n",
       "    </tr>\n",
       "    <tr>\n",
       "      <th>3</th>\n",
       "      <td>Relative Root Mean Squared Error (RRMSE)</td>\n",
       "      <td>0.027</td>\n",
       "    </tr>\n",
       "    <tr>\n",
       "      <th>4</th>\n",
       "      <td>Relative Mean Absolute Error (RMAE)</td>\n",
       "      <td>0.018</td>\n",
       "    </tr>\n",
       "    <tr>\n",
       "      <th>5</th>\n",
       "      <td>Theil's U Statistic (TU)</td>\n",
       "      <td>0.027</td>\n",
       "    </tr>\n",
       "    <tr>\n",
       "      <th>6</th>\n",
       "      <td>Kling-Gupta Efficiency (KGE)</td>\n",
       "      <td>NaN</td>\n",
       "    </tr>\n",
       "    <tr>\n",
       "      <th>7</th>\n",
       "      <td>Absolute Percentage Bias (APB)</td>\n",
       "      <td>1.704</td>\n",
       "    </tr>\n",
       "    <tr>\n",
       "      <th>8</th>\n",
       "      <td>Legates metric (LM)</td>\n",
       "      <td>0.996</td>\n",
       "    </tr>\n",
       "    <tr>\n",
       "      <th>9</th>\n",
       "      <td>Nash-Sutcliffe Efficiency (NSE)</td>\n",
       "      <td>0.986</td>\n",
       "    </tr>\n",
       "    <tr>\n",
       "      <th>10</th>\n",
       "      <td>Willmott's Index of Agreement (d)</td>\n",
       "      <td>0.996</td>\n",
       "    </tr>\n",
       "    <tr>\n",
       "      <th>11</th>\n",
       "      <td>Standard Deviation of Error (SDE)</td>\n",
       "      <td>1.553</td>\n",
       "    </tr>\n",
       "    <tr>\n",
       "      <th>12</th>\n",
       "      <td>Legates metric</td>\n",
       "      <td>0.996</td>\n",
       "    </tr>\n",
       "    <tr>\n",
       "      <th>13</th>\n",
       "      <td>Nash-Sutcliffe Efficiency (NSE)</td>\n",
       "      <td>0.986</td>\n",
       "    </tr>\n",
       "    <tr>\n",
       "      <th>14</th>\n",
       "      <td>Maximum Error (emax)</td>\n",
       "      <td>8.705</td>\n",
       "    </tr>\n",
       "    <tr>\n",
       "      <th>15</th>\n",
       "      <td>Minimum Error(emin)</td>\n",
       "      <td>0.011</td>\n",
       "    </tr>\n",
       "    <tr>\n",
       "      <th>16</th>\n",
       "      <td>Mean Absolute Error (MAE)</td>\n",
       "      <td>1.005</td>\n",
       "    </tr>\n",
       "    <tr>\n",
       "      <th>17</th>\n",
       "      <td>R-squared (R2) Score</td>\n",
       "      <td>0.986</td>\n",
       "    </tr>\n",
       "  </tbody>\n",
       "</table>\n",
       "</div>"
      ],
      "text/plain": [
       "                                      Metric  Value\n",
       "0             Root Mean Squared Error (RMSE)  1.572\n",
       "1                   Mean Squared Error (MSE)  2.471\n",
       "2                  Mean Absolute Error (MAE)  1.005\n",
       "3   Relative Root Mean Squared Error (RRMSE)  0.027\n",
       "4        Relative Mean Absolute Error (RMAE)  0.018\n",
       "5                   Theil's U Statistic (TU)  0.027\n",
       "6               Kling-Gupta Efficiency (KGE)    NaN\n",
       "7             Absolute Percentage Bias (APB)  1.704\n",
       "8                        Legates metric (LM)  0.996\n",
       "9            Nash-Sutcliffe Efficiency (NSE)  0.986\n",
       "10         Willmott's Index of Agreement (d)  0.996\n",
       "11         Standard Deviation of Error (SDE)  1.553\n",
       "12                            Legates metric  0.996\n",
       "13           Nash-Sutcliffe Efficiency (NSE)  0.986\n",
       "14                      Maximum Error (emax)  8.705\n",
       "15                       Minimum Error(emin)  0.011\n",
       "16                 Mean Absolute Error (MAE)  1.005\n",
       "17                      R-squared (R2) Score  0.986"
      ]
     },
     "execution_count": 42,
     "metadata": {},
     "output_type": "execute_result"
    }
   ],
   "source": [
    "from io import StringIO\n",
    "table = [\n",
    "    [\"Root Mean Squared Error (RMSE)\", rmse],\n",
    "    [\"Mean Squared Error (MSE)\", mse],\n",
    "    [\"Mean Absolute Error (MAE)\", mae],\n",
    "    [\"Relative Root Mean Squared Error (RRMSE)\", rrmse],\n",
    "    [\"Relative Mean Absolute Error (RMAE)\", rmae],\n",
    "    [\"Theil\\'s U Statistic (TU)\", theil_u],\n",
    "    [\"Kling-Gupta Efficiency (KGE)\", kge_value],\n",
    "    [\"Absolute Percentage Bias (APB)\", apb],\n",
    "    [\"Legates metric (LM)\", legates_metric],\n",
    "    [\"Nash-Sutcliffe Efficiency (NSE)\", nse],\n",
    "    [\"Willmott's Index of Agreement (d)\", d],\n",
    "    [\"Standard Deviation of Error (SDE)\", sde],\n",
    "    [\"Legates metric\", legates_metric],\n",
    "    [\"Nash-Sutcliffe Efficiency (NSE)\", nse],\n",
    "    [\"Maximum Error (emax)\", max_error],\n",
    "    [\"Minimum Error(emin)\", min_error],\n",
    "    [\"Mean Absolute Error (MAE)\", mae],\n",
    "    [\"R-squared (R2) Score\", r2]\n",
    "]\n",
    "# Create a DataFrame\n",
    "df = pd.DataFrame(table, columns=[\"Metric\", \"Value\"])\n",
    "df_metrics = df.round(3)\n",
    "df_metrics"
   ]
  },
  {
   "cell_type": "code",
   "execution_count": 43,
   "id": "3c9a14c0",
   "metadata": {},
   "outputs": [
    {
     "name": "stdout",
     "output_type": "stream",
     "text": [
      "T-Statistic: -3.1332288192204714\n",
      "P-Value: 0.0018559467272434294\n",
      "Reject the null hypothesis\n"
     ]
    }
   ],
   "source": [
    "from scipy.stats import t\n",
    "actual_values=y_test\n",
    "predicted_values=predictions\n",
    "# Calculate the Mean Bias Error (MBE)\n",
    "mbe = np.mean(predicted_values - actual_values)\n",
    "\n",
    "# Calculate the standard deviation of the differences\n",
    "std_diff = np.std(predicted_values - actual_values)\n",
    "\n",
    "# Calculate the t-statistic\n",
    "n = len(actual_values)\n",
    "t_stat = mbe / (std_diff / np.sqrt(n))\n",
    "\n",
    "# Degrees of freedom\n",
    "df = n - 1\n",
    "\n",
    "# Calculate the p-value\n",
    "p_value = 2 * (1 - t.cdf(np.abs(t_stat), df))\n",
    "\n",
    "# Display the t-statistic and p-value\n",
    "print(f\"T-Statistic: {t_stat}\")\n",
    "print(f\"P-Value: {p_value}\")\n",
    "\n",
    "# Interpret the results\n",
    "alpha = 0.05\n",
    "if p_value < alpha:\n",
    "    print(\"Reject the null hypothesis\")\n",
    "else:\n",
    "    print(\"Fail to reject the null hypothesis\")"
   ]
  },
  {
   "cell_type": "code",
   "execution_count": 44,
   "id": "4ec08cb8",
   "metadata": {},
   "outputs": [],
   "source": [
    "#HyperOpt"
   ]
  },
  {
   "cell_type": "code",
   "execution_count": 45,
   "id": "21947b06",
   "metadata": {},
   "outputs": [],
   "source": [
    "from hyperopt import fmin, tpe, hp, SparkTrials, STATUS_OK, Trials\n",
    "from math import sqrt"
   ]
  },
  {
   "cell_type": "code",
   "execution_count": 46,
   "id": "4a92068a",
   "metadata": {},
   "outputs": [],
   "source": [
    "df = pd.read_csv('apple_stocks_with_sentiment10.csv', parse_dates=['Date'])\n",
    "data = df[['Close']]\n",
    "\n",
    "# Normalize the data\n",
    "scaler = MinMaxScaler()\n",
    "data_scaled = scaler.fit_transform(data)\n",
    "y=data_scaled.copy()\n",
    "y = y.reshape(-1)\n",
    "lag = 10  # Adjust the lag as needed\n",
    "\n",
    "# Create lagged sequences of y as input features\n",
    "X = np.array([y[i:i+lag] for i in range(len(y)-lag)])\n",
    "\n",
    "# Corresponding target variable (shifted by lag)\n",
    "y = y[lag:]\n",
    "\n",
    "# Train-test split\n",
    "X_train, X_test, y_train, y_test = train_test_split(X, y, test_size=0.2, random_state=42,shuffle=False)"
   ]
  },
  {
   "cell_type": "code",
   "execution_count": 16,
   "id": "ce8181da",
   "metadata": {},
   "outputs": [],
   "source": [
    "def Obj(params):\n",
    "    model = EnsembleDeepRVFL(**params,same_feature=False,task_type='regression')\n",
    "    model.train(X_train, y_train,0)\n",
    "    y_pred = model.predict(X_test)\n",
    "    score = sqrt(mean_squared_error(y_test, y_pred))\n",
    "    print(score)\n",
    "    return {'loss': score, 'status': STATUS_OK,'Trained_Model': model} "
   ]
  },
  {
   "cell_type": "code",
   "execution_count": 47,
   "id": "6487ec8a",
   "metadata": {},
   "outputs": [],
   "source": [
    "space ={\n",
    "\n",
    "        'n_nodes': hp.choice('n_nodes',np.arange(1, 500, 1, dtype=int)),\n",
    "        'w_random_vec_range': hp.choice('w_random_vec_range',[[-1 ,1],[1 ,-1],\n",
    "                                                              [0 ,1],[1 ,0],[2, 0],[2 ,1],[1, 2],[-1 ,-1],[-2 ,-1],\n",
    "                                                            [2,2],[-2,-2],[-2,0]]),\n",
    "        'b_random_vec_range': hp.choice('b_random_vec_range',[[-1 ,1],[1 ,-1],\n",
    "                                                              [0 ,1],[1 ,0],[2, 0],[2 ,1],[1, 2],[-1 ,-1],[-2 ,-1],\n",
    "                                                           [2,2],[-2,-2],[-2,0]]),\n",
    "        'lam':hp.uniform('lam', 1e-12,1),\n",
    "        'n_layer': hp.choice('n_layer',np.arange(1, 100, 1, dtype=int)),\n",
    "        'activation':hp.choice('activation', ['sigmoid','hardlim','sine','tribas','radbas','sign','relu','leaky_relu'])\n",
    "    \n",
    "    }"
   ]
  },
  {
   "cell_type": "code",
   "execution_count": 48,
   "id": "13ad567c",
   "metadata": {
    "scrolled": true
   },
   "outputs": [
    {
     "name": "stdout",
     "output_type": "stream",
     "text": [
      "0.01798666703275645                                                                                                    \n",
      "0.01789361654570951                                                                                                    \n",
      "0.01853550019185426                                                                                                    \n",
      "0.01830420527269383                                                                                                    \n",
      "0.0179422568722141                                                                                                     \n",
      "0.01788312822940896                                                                                                    \n",
      "0.017959188317163862                                                                                                   \n",
      "0.018508444849498942                                                                                                   \n",
      "0.01802609477250615                                                                                                    \n",
      "0.017961065195917513                                                                                                   \n",
      "0.018946608909285338                                                                                                   \n",
      "0.017986049031187352                                                                                                   \n",
      "0.01834325506589945                                                                                                    \n",
      "0.01840250886666318                                                                                                    \n",
      "0.017962266129542794                                                                                                   \n",
      "0.017959723403109116                                                                                                   \n",
      "0.018431245918192632                                                                                                   \n",
      "0.017979026447438595                                                                                                   \n",
      "0.017984433335345905                                                                                                   \n",
      "0.01796291960532561                                                                                                    \n",
      "0.01786939000399052                                                                                                    \n",
      "0.01786956490498013                                                                                                    \n",
      "0.01787466985052972                                                                                                    \n",
      "0.017868809083090135                                                                                                   \n",
      "0.01789447849829189                                                                                                    \n",
      "0.0180329299278401                                                                                                     \n",
      "0.017932406663341952                                                                                                   \n",
      "0.018157530316405674                                                                                                   \n",
      "0.01797956448775474                                                                                                    \n",
      "0.01795051092326284                                                                                                    \n",
      "0.01794672722932765                                                                                                    \n",
      "0.018562605979386117                                                                                                   \n",
      "0.017895639863932025                                                                                                   \n",
      "0.017990127563250892                                                                                                   \n",
      "0.08484310496844163                                                                                                    \n",
      "0.018166785941603536                                                                                                   \n",
      "0.01792592658151966                                                                                                    \n",
      "0.017894755192154697                                                                                                   \n",
      "0.01840263249285687                                                                                                    \n",
      "0.019042969163093764                                                                                                   \n",
      "0.017980113432704614                                                                                                   \n",
      "0.018113765874666135                                                                                                   \n",
      "0.01791759682259148                                                                                                    \n",
      "0.019031659646902545                                                                                                   \n",
      "0.017929281593669105                                                                                                   \n",
      "0.018084815761198473                                                                                                   \n",
      "0.01787396934846995                                                                                                    \n",
      "0.018243741275276414                                                                                                   \n",
      "0.017932665749862336                                                                                                   \n",
      "0.017880506869868005                                                                                                   \n",
      "0.017993221669937227                                                                                                   \n",
      "0.01800231011451767                                                                                                    \n",
      "0.018100787932666063                                                                                                   \n",
      "0.017883597568417897                                                                                                   \n",
      "0.017910022973721514                                                                                                   \n",
      "0.018715671542414783                                                                                                   \n",
      "0.01808172267516943                                                                                                    \n",
      "0.018369961967139057                                                                                                   \n",
      "0.01798977312991963                                                                                                    \n",
      "0.017970515664489633                                                                                                   \n",
      "0.018733274345023945                                                                                                   \n",
      "0.017837286127682844                                                                                                   \n",
      "0.0178678688947713                                                                                                     \n",
      "0.01790582237720398                                                                                                    \n",
      "0.017921887156144387                                                                                                   \n",
      "0.017881012375215548                                                                                                   \n",
      "0.01788232925231479                                                                                                    \n",
      "0.017880743207102933                                                                                                   \n"
     ]
    },
    {
     "name": "stdout",
     "output_type": "stream",
     "text": [
      "0.017905863192368924                                                                                                   \n",
      "0.017897165722310947                                                                                                   \n",
      "0.01787085518651633                                                                                                    \n",
      "0.017880897729793763                                                                                                   \n",
      "0.018968312217247766                                                                                                   \n",
      "0.01789318483813424                                                                                                    \n",
      "0.017912701306048235                                                                                                   \n",
      "0.017917034863221878                                                                                                   \n",
      "0.01863344683019394                                                                                                    \n",
      "0.017940645010833298                                                                                                   \n",
      "0.017913133160964555                                                                                                   \n",
      "0.018067434467209455                                                                                                   \n",
      "0.018108093700164342                                                                                                   \n",
      "0.02159679925814991                                                                                                    \n",
      "0.017943800128848032                                                                                                   \n",
      "0.017902200948914364                                                                                                   \n",
      "0.01824077235022739                                                                                                    \n",
      "0.018326063731547014                                                                                                   \n",
      "0.017885267143423512                                                                                                   \n",
      "0.01789742748195296                                                                                                    \n",
      "0.01903110008833635                                                                                                    \n",
      "0.018147296146970502                                                                                                   \n",
      "0.0183890415621625                                                                                                     \n",
      "0.017981959908390875                                                                                                   \n",
      "0.017889244563919982                                                                                                   \n",
      "0.01788070015415011                                                                                                    \n",
      "0.01796889023997366                                                                                                    \n",
      "0.9051220759254236                                                                                                     \n",
      "0.017919270948802746                                                                                                   \n",
      "0.017894112541967152                                                                                                   \n",
      "0.017961807659430937                                                                                                   \n",
      "0.017975699459603044                                                                                                   \n",
      "0.017940970807708886                                                                                                   \n",
      "0.01849781349396515                                                                                                    \n",
      "0.018829682926934738                                                                                                   \n",
      "0.017922770753473337                                                                                                   \n",
      "0.017856367263047884                                                                                                   \n",
      "0.01806283696900671                                                                                                    \n",
      "0.023188575792842003                                                                                                   \n",
      "0.017915840651600182                                                                                                   \n",
      "0.017999297342985342                                                                                                   \n",
      "0.017910504277107334                                                                                                   \n",
      "0.017890475387791746                                                                                                   \n",
      "0.018186505607832682                                                                                                   \n",
      "0.017988910131187922                                                                                                   \n",
      "0.018063312312218055                                                                                                   \n",
      "0.01792184134291293                                                                                                    \n",
      "0.017857922774221442                                                                                                   \n",
      "0.018007239753015797                                                                                                   \n",
      "0.018006128293085                                                                                                      \n",
      "0.01798611557961505                                                                                                    \n",
      "0.01862150260335                                                                                                       \n",
      "0.017933562522489756                                                                                                   \n",
      "0.0179017546185061                                                                                                     \n",
      "0.018028747478123403                                                                                                   \n",
      "0.017893745350399365                                                                                                   \n",
      "0.018063934144781513                                                                                                   \n",
      "0.01796115094148555                                                                                                    \n",
      "0.02000130245499543                                                                                                    \n",
      "  8%|███▋                                       | 127/1500 [06:08<18:41,  1.22trial/s, best loss: 0.017837286127682844]"
     ]
    },
    {
     "name": "stderr",
     "output_type": "stream",
     "text": [
      "C:\\Users\\SUJAN\\AppData\\Local\\Temp\\ipykernel_28728\\3362559442.py:183: RuntimeWarning: overflow encountered in power\n",
      "  return 1 / (1 + np.e ** (-x))\n",
      "\n"
     ]
    },
    {
     "name": "stdout",
     "output_type": "stream",
     "text": [
      "0.017959932489656123                                                                                                   \n",
      "0.01832964617243447                                                                                                    \n",
      "0.018999398685379126                                                                                                   \n",
      "0.018171224495502087                                                                                                   \n",
      "0.017916877860063466                                                                                                   \n",
      "0.01802278031041039                                                                                                    \n",
      "0.018328673834514433                                                                                                   \n",
      "0.018795946249029746                                                                                                   \n",
      "0.017898573188061997                                                                                                   \n",
      "0.017936956584186863                                                                                                   \n",
      "0.01797185784633584                                                                                                    \n",
      "0.019031663451725297                                                                                                   \n",
      "0.01788501285894506                                                                                                    \n",
      "0.018112128792452737                                                                                                   \n",
      "0.01870542065267707                                                                                                    \n",
      "0.017951611548952078                                                                                                   \n",
      "0.019160227089629746                                                                                                   \n",
      "0.018224768484895515                                                                                                   \n",
      "0.01787440175914436                                                                                                    \n",
      "0.017915960063968207                                                                                                   \n",
      "0.017908939452618653                                                                                                   \n",
      "0.018337854133190085                                                                                                   \n",
      "0.017965648831605154                                                                                                   \n",
      "0.017903471650476524                                                                                                   \n",
      "0.017915974424639478                                                                                                   \n",
      "0.018301397104189408                                                                                                   \n",
      "0.017897148947571058                                                                                                   \n",
      "0.017913681522528337                                                                                                   \n",
      "0.017963053930334975                                                                                                   \n",
      "0.017932313662768002                                                                                                   \n",
      "0.02123494089020883                                                                                                    \n",
      "0.017937870225158758                                                                                                   \n",
      "0.017888217693999838                                                                                                   \n",
      "0.01789355907377648                                                                                                    \n",
      "0.018166295368092503                                                                                                   \n",
      "0.019547321244326628                                                                                                   \n",
      "0.018217402298275266                                                                                                   \n",
      "0.017914437448976393                                                                                                   \n",
      "0.017915176817689008                                                                                                   \n",
      "0.017956959099005878                                                                                                   \n",
      "0.01795698084947777                                                                                                    \n",
      "0.01789979405755385                                                                                                    \n",
      "0.019231988526155094                                                                                                   \n",
      "0.017933235180762244                                                                                                   \n",
      "0.017895700784842428                                                                                                   \n",
      "0.017855776536405812                                                                                                   \n",
      "0.018073584758402653                                                                                                   \n",
      "0.018570126449618318                                                                                                   \n",
      "0.01790681206494258                                                                                                    \n",
      "0.017908757070546785                                                                                                   \n",
      "0.01788440522085259                                                                                                    \n",
      "0.01800492429201484                                                                                                    \n",
      "0.017949731994337286                                                                                                   \n",
      "0.018153006359365367                                                                                                   \n",
      "0.017841853955964538                                                                                                   \n",
      "0.018213777473406603                                                                                                   \n",
      "0.03307691339208294                                                                                                    \n",
      "0.01807917324297538                                                                                                    \n",
      "0.018091393731765562                                                                                                   \n",
      "0.01857467599338941                                                                                                    \n",
      "0.017934290036098394                                                                                                   \n",
      "0.017938745690110718                                                                                                   \n",
      "0.01805471245652335                                                                                                    \n",
      "0.01826608233885834                                                                                                    \n",
      "0.018874179251194098                                                                                                   \n",
      "0.017946627326340146                                                                                                   \n",
      "0.017881010525119895                                                                                                   \n",
      "0.01856787302974016                                                                                                    \n"
     ]
    },
    {
     "name": "stdout",
     "output_type": "stream",
     "text": [
      "0.01794296168802921                                                                                                    \n",
      "0.017909827208901344                                                                                                   \n",
      "0.017963769936632984                                                                                                   \n",
      "0.017903796926010417                                                                                                   \n",
      "0.017918392997729814                                                                                                   \n",
      "0.0179591533160638                                                                                                     \n",
      "0.018660797179404907                                                                                                   \n",
      "0.01873782111272156                                                                                                    \n",
      "0.018018418244046094                                                                                                   \n",
      "0.01846130549366302                                                                                                    \n",
      "0.018380224951760643                                                                                                   \n",
      "0.017960254649726465                                                                                                   \n",
      "0.01793422742852548                                                                                                    \n",
      "0.01790163945527185                                                                                                    \n",
      "0.017915242389812416                                                                                                   \n",
      "0.01797217598775231                                                                                                    \n",
      "0.018950370802481336                                                                                                   \n",
      "0.01890937461198968                                                                                                    \n",
      "0.017916505802268338                                                                                                   \n",
      "0.017851488424929104                                                                                                   \n",
      "0.017830684069666754                                                                                                   \n",
      "0.01860867578530712                                                                                                    \n",
      "0.018918131773100273                                                                                                   \n",
      "0.019166570794025978                                                                                                   \n",
      "0.01795662190467752                                                                                                    \n",
      "0.02079347121340317                                                                                                    \n",
      "0.01910122781538566                                                                                                    \n",
      "0.017862010312539877                                                                                                   \n",
      "0.02067513928060524                                                                                                    \n",
      "0.018841600305920535                                                                                                   \n",
      "0.01884581294582642                                                                                                    \n",
      "0.017837321065262243                                                                                                   \n",
      "0.01987134882144432                                                                                                    \n",
      "0.021401315250235368                                                                                                   \n",
      "0.018994358639877716                                                                                                   \n",
      "0.018575385500233316                                                                                                   \n",
      "0.01883538015492157                                                                                                    \n",
      "0.018742690194499294                                                                                                   \n",
      "0.1169770181423338                                                                                                     \n",
      "0.019294048452655983                                                                                                   \n",
      "0.018062960643639468                                                                                                   \n",
      "0.017919625242526705                                                                                                   \n",
      "0.017873202985353623                                                                                                   \n",
      "0.018671378440188485                                                                                                   \n",
      "0.017924186573321864                                                                                                   \n",
      "0.01837748580462243                                                                                                    \n",
      "0.018015645204640256                                                                                                   \n",
      "0.01806080419071337                                                                                                    \n",
      "0.018661111961963798                                                                                                   \n",
      "0.01790721700395465                                                                                                    \n",
      "0.01793264499549921                                                                                                    \n",
      "0.017988499960289245                                                                                                   \n",
      "0.01796821866216964                                                                                                    \n",
      "0.017933750653909453                                                                                                   \n",
      "0.01885387359142469                                                                                                    \n",
      "0.017920281504376263                                                                                                   \n",
      "0.021950026899389147                                                                                                   \n",
      "0.04081400440572674                                                                                                    \n",
      "0.019271750018799376                                                                                                   \n",
      "0.017892814046322716                                                                                                   \n",
      "0.017981435960703732                                                                                                   \n",
      "0.017973290048731674                                                                                                   \n",
      "0.017854842606255108                                                                                                   \n",
      "0.019528091344237067                                                                                                   \n",
      "0.017945485372556996                                                                                                   \n",
      "0.01889890968572809                                                                                                    \n",
      "0.01902029957686334                                                                                                    \n",
      "0.018658899937864657                                                                                                   \n"
     ]
    },
    {
     "name": "stdout",
     "output_type": "stream",
     "text": [
      "0.021264644120918504                                                                                                   \n",
      "0.01934202382095778                                                                                                    \n",
      "0.019090890355298675                                                                                                   \n",
      "0.01989004116485268                                                                                                    \n",
      "0.01895907924857721                                                                                                    \n",
      "0.017847716515873316                                                                                                   \n",
      "0.01804807729169102                                                                                                    \n",
      "0.01789616579378283                                                                                                    \n",
      "0.018095410832097394                                                                                                   \n",
      "0.017919673658470792                                                                                                   \n",
      "0.01787635738187176                                                                                                    \n",
      "0.017897898043406295                                                                                                   \n",
      "0.01790263733517015                                                                                                    \n",
      "0.017872520886785533                                                                                                   \n",
      "0.017896241403091866                                                                                                   \n",
      " 19%|███████▌                                 | 278/1500 [12:23<1:58:50,  5.83s/trial, best loss: 0.017830684069666754]"
     ]
    },
    {
     "name": "stderr",
     "output_type": "stream",
     "text": [
      "C:\\Users\\SUJAN\\AppData\\Local\\Temp\\ipykernel_28728\\3362559442.py:183: RuntimeWarning: overflow encountered in power\n",
      "  return 1 / (1 + np.e ** (-x))\n",
      "\n"
     ]
    },
    {
     "name": "stdout",
     "output_type": "stream",
     "text": [
      "0.01793261575135162                                                                                                    \n",
      "0.017870720756665653                                                                                                   \n",
      "0.01795743761686951                                                                                                    \n",
      "0.017899320516758337                                                                                                   \n",
      "0.0179475403743604                                                                                                     \n",
      "0.018023392429137634                                                                                                   \n",
      "0.1960187146372008                                                                                                     \n",
      "0.017908722555127897                                                                                                   \n",
      "0.01818459248300153                                                                                                    \n",
      "0.01790906853894769                                                                                                    \n",
      "0.04916950643264095                                                                                                    \n",
      "0.017890388370335093                                                                                                   \n",
      "0.018023918345881896                                                                                                   \n",
      "0.017945625660662375                                                                                                   \n",
      "0.019189082611756142                                                                                                   \n",
      "0.017898602649304977                                                                                                   \n",
      "0.01805419429928555                                                                                                    \n",
      "0.017885768178359313                                                                                                   \n",
      "0.022601863314655597                                                                                                   \n",
      "0.017908302783773502                                                                                                   \n",
      "0.018315282714757616                                                                                                   \n",
      "0.018004180198604454                                                                                                   \n",
      "0.018121171782474056                                                                                                   \n",
      "0.07841618596954945                                                                                                    \n",
      "0.017890192895019016                                                                                                   \n",
      "0.01858942147048136                                                                                                    \n",
      "0.017966809790773038                                                                                                   \n",
      "0.017898398456985723                                                                                                   \n",
      "0.01791745809815643                                                                                                    \n",
      "0.01810665880423533                                                                                                    \n",
      "0.018042806505707717                                                                                                   \n",
      "0.01835586675531706                                                                                                    \n",
      "0.018054247492060586                                                                                                   \n",
      "0.017984865468228594                                                                                                   \n",
      "0.017866990866378614                                                                                                   \n",
      "0.017936845660372413                                                                                                   \n",
      "0.25933020595832                                                                                                       \n",
      "0.018155386622337042                                                                                                   \n",
      "0.0203141933781604                                                                                                     \n",
      "0.0182322212455312                                                                                                     \n",
      "0.017878548845017966                                                                                                   \n",
      "0.017949926527747066                                                                                                   \n",
      "0.017924059191292613                                                                                                   \n",
      "0.018586558803374426                                                                                                   \n",
      "0.01794733902975794                                                                                                    \n",
      "0.04517525472292694                                                                                                    \n",
      "0.018422171897478645                                                                                                   \n",
      "0.01788472908689948                                                                                                    \n",
      "0.017937287233263783                                                                                                   \n",
      "0.017931235468043635                                                                                                   \n",
      "0.019079111422380068                                                                                                   \n",
      "0.018504383045204416                                                                                                   \n",
      "0.018016182954150327                                                                                                   \n",
      "0.017977626376666108                                                                                                   \n",
      "0.019355684004641462                                                                                                   \n",
      "0.017873260581105995                                                                                                   \n",
      "0.01796117041011721                                                                                                    \n",
      "0.017956507928237192                                                                                                   \n",
      "0.01926696560457963                                                                                                    \n",
      "0.017897541485114007                                                                                                   \n",
      "0.0197182191035984                                                                                                     \n",
      "0.017914166824472846                                                                                                   \n",
      "0.01822936697941776                                                                                                    \n",
      "0.017972328292091805                                                                                                   \n",
      "0.018082081518472622                                                                                                   \n",
      "0.018965853101389145                                                                                                   \n",
      "0.01790402277572582                                                                                                    \n",
      "0.017897759965021815                                                                                                   \n"
     ]
    },
    {
     "name": "stdout",
     "output_type": "stream",
     "text": [
      "0.018042163489098685                                                                                                   \n",
      "0.019294162411322757                                                                                                   \n",
      "0.01796645159812566                                                                                                    \n",
      "0.01893245427678401                                                                                                    \n",
      "0.018594455029528553                                                                                                   \n",
      "0.017918149036737163                                                                                                   \n",
      "0.01824911885477029                                                                                                    \n",
      "0.019016793872688845                                                                                                   \n",
      "0.017942753378561584                                                                                                   \n",
      "0.01809187842070051                                                                                                    \n",
      "0.018147526200559122                                                                                                   \n",
      "0.019746831154555965                                                                                                   \n",
      "0.018092509815491355                                                                                                   \n",
      "0.01812037828697577                                                                                                    \n",
      "0.017883235288113464                                                                                                   \n",
      "0.017894822339086867                                                                                                   \n",
      "0.017991436007163325                                                                                                   \n",
      "0.10506729787918323                                                                                                    \n",
      "0.017909305218708475                                                                                                   \n",
      "0.018162698670689245                                                                                                   \n",
      "0.019064181655625543                                                                                                   \n",
      "0.01832364004945773                                                                                                    \n",
      "0.017944549615545397                                                                                                   \n",
      "0.017926826027433673                                                                                                   \n",
      "0.01794478943541733                                                                                                    \n",
      "0.017878445129825324                                                                                                   \n",
      "0.017993854918987546                                                                                                   \n",
      "0.01790180577635182                                                                                                    \n",
      "0.018103227313279183                                                                                                   \n",
      "0.01805717017233498                                                                                                    \n",
      "0.018469138052229127                                                                                                   \n",
      "0.01791181140255455                                                                                                    \n",
      "0.017892951301533153                                                                                                   \n",
      "0.020030271942144826                                                                                                   \n",
      "0.017960014146285404                                                                                                   \n",
      "0.527683878435946                                                                                                      \n",
      "0.01928410696987021                                                                                                    \n",
      "0.017896978076851176                                                                                                   \n",
      "0.017893854917086883                                                                                                   \n",
      "0.01792060838276119                                                                                                    \n",
      "0.017906567636517455                                                                                                   \n",
      " 26%|███████████                                | 387/1500 [17:33<38:08,  2.06s/trial, best loss: 0.017830684069666754]"
     ]
    },
    {
     "name": "stderr",
     "output_type": "stream",
     "text": [
      "C:\\Users\\SUJAN\\AppData\\Local\\Temp\\ipykernel_28728\\3362559442.py:183: RuntimeWarning: overflow encountered in power\n",
      "  return 1 / (1 + np.e ** (-x))\n",
      "\n"
     ]
    },
    {
     "name": "stdout",
     "output_type": "stream",
     "text": [
      "0.017970557981566233                                                                                                   \n",
      "0.018761093081138824                                                                                                   \n",
      "0.019118570885530622                                                                                                   \n",
      "0.017964973127291797                                                                                                   \n",
      "0.017936926395526593                                                                                                   \n",
      "0.02627556816071766                                                                                                    \n",
      "0.01789731332414559                                                                                                    \n",
      "0.01943927899440293                                                                                                    \n",
      "0.017968929475648637                                                                                                   \n",
      "0.017872340005430146                                                                                                   \n",
      "0.0182892515693292                                                                                                     \n",
      "0.019002563607110914                                                                                                   \n",
      "0.017949742023357494                                                                                                   \n",
      "0.01797941098610248                                                                                                    \n",
      "0.020264872862684868                                                                                                   \n",
      "0.018545045186084033                                                                                                   \n",
      "0.019147002400811762                                                                                                   \n",
      "0.01786446218512781                                                                                                    \n",
      "0.018945192256975087                                                                                                   \n",
      "0.01894012283514828                                                                                                    \n",
      "0.019371659132240697                                                                                                   \n",
      "0.0190656429227195                                                                                                     \n",
      "0.018795317389076444                                                                                                   \n",
      "0.01953925492534704                                                                                                    \n",
      "0.020127752409197914                                                                                                   \n",
      "0.019150772313050537                                                                                                   \n",
      "0.019334401323863774                                                                                                   \n",
      "0.018954784051596483                                                                                                   \n",
      "0.01791148343235293                                                                                                    \n",
      "0.017981898843744886                                                                                                   \n",
      "0.018999630400337753                                                                                                   \n",
      "0.01790446675486183                                                                                                    \n",
      "0.019458919390980243                                                                                                   \n",
      "0.017896404140825606                                                                                                   \n",
      "0.017900955085612204                                                                                                   \n",
      "0.018125553903151594                                                                                                   \n",
      "0.017940419331653704                                                                                                   \n",
      "0.0763835294053996                                                                                                     \n",
      "0.019401216833958394                                                                                                   \n",
      "0.01787943927380685                                                                                                    \n",
      "0.018699660507764868                                                                                                   \n",
      "0.01832965746644855                                                                                                    \n",
      "0.017894662419086303                                                                                                   \n",
      "0.018031626985452794                                                                                                   \n",
      "0.019521846323723887                                                                                                   \n",
      "0.017897145458803203                                                                                                   \n",
      "0.01793064291831819                                                                                                    \n",
      "0.017884989618839654                                                                                                   \n",
      "0.020727060041448652                                                                                                   \n",
      "0.017919047078607118                                                                                                   \n",
      "0.01796139395094857                                                                                                    \n",
      "0.01963079540078444                                                                                                    \n",
      "0.01791199934161501                                                                                                    \n",
      "0.020999235060365915                                                                                                   \n",
      "0.02037740618291292                                                                                                    \n",
      "0.018930477688450548                                                                                                   \n",
      "0.017938999365765734                                                                                                   \n",
      "0.017986042683386907                                                                                                   \n",
      "0.024061966379530602                                                                                                   \n",
      "0.019854508473235687                                                                                                   \n",
      "0.01789556750124493                                                                                                    \n",
      "0.018304111549995943                                                                                                   \n",
      "0.018443379843122675                                                                                                   \n",
      "0.01800307154124067                                                                                                    \n",
      "0.019028412387025434                                                                                                   \n",
      "0.01941100550791408                                                                                                    \n",
      "0.01788483224581905                                                                                                    \n",
      "0.01789351979097941                                                                                                    \n"
     ]
    },
    {
     "name": "stdout",
     "output_type": "stream",
     "text": [
      "0.01908958201095728                                                                                                    \n",
      "0.01814381190393781                                                                                                    \n",
      "0.0180029601242567                                                                                                     \n",
      " 31%|█████████████▏                             | 458/1500 [20:26<58:35,  3.37s/trial, best loss: 0.017830684069666754]"
     ]
    },
    {
     "name": "stderr",
     "output_type": "stream",
     "text": [
      "C:\\Users\\SUJAN\\AppData\\Local\\Temp\\ipykernel_28728\\3362559442.py:183: RuntimeWarning: overflow encountered in power\n",
      "  return 1 / (1 + np.e ** (-x))\n",
      "\n"
     ]
    },
    {
     "name": "stdout",
     "output_type": "stream",
     "text": [
      "0.01795630993249387                                                                                                    \n",
      "0.053028722821361465                                                                                                   \n",
      "0.01884711566839079                                                                                                    \n",
      "0.017905598520403437                                                                                                   \n",
      "0.018337205629067394                                                                                                   \n",
      "0.018967446889256726                                                                                                   \n",
      "0.09610138266951129                                                                                                    \n",
      "0.017945794418403556                                                                                                   \n",
      "0.01803218311286545                                                                                                    \n",
      "0.01921446150077009                                                                                                    \n",
      "0.017888537111867074                                                                                                   \n",
      "0.017871522616419114                                                                                                   \n",
      "0.01986442135496689                                                                                                    \n",
      "0.017972555726305683                                                                                                   \n",
      "0.01816186242867818                                                                                                    \n",
      "0.01797786753936275                                                                                                    \n",
      "0.01810371877750673                                                                                                    \n",
      "0.01790654565124038                                                                                                    \n",
      "0.0201521153173843                                                                                                     \n",
      "0.01796535989661589                                                                                                    \n",
      "0.018623962432977235                                                                                                   \n",
      "0.018028028882928485                                                                                                   \n",
      "0.024892662496795556                                                                                                   \n",
      "0.01927560014103919                                                                                                    \n",
      "0.018070162459331074                                                                                                   \n",
      "0.017896993439856606                                                                                                   \n",
      "0.01802579619622928                                                                                                    \n",
      "0.018100818927971454                                                                                                   \n",
      "0.017909249836955275                                                                                                   \n",
      "0.017970991734203426                                                                                                   \n",
      "0.019189121510678656                                                                                                   \n",
      "0.0179075455007437                                                                                                     \n",
      "0.017895173567857175                                                                                                   \n",
      "0.01920232658067736                                                                                                    \n",
      "0.01784970857712832                                                                                                    \n",
      "0.017881644479221172                                                                                                   \n",
      "0.01809935275408674                                                                                                    \n",
      "0.018128054278275987                                                                                                   \n",
      "0.01804900453054573                                                                                                    \n",
      "0.01787069629934548                                                                                                    \n",
      "0.017889732723949794                                                                                                   \n",
      "0.018115746276196214                                                                                                   \n",
      "0.01793073641244108                                                                                                    \n",
      "0.01807413420428878                                                                                                    \n",
      "0.01807750203765926                                                                                                    \n",
      "0.018134753013282098                                                                                                   \n",
      "0.01789692198957281                                                                                                    \n",
      "0.01791623114274804                                                                                                    \n",
      "0.01816554419268879                                                                                                    \n",
      "0.01795054749329495                                                                                                    \n",
      "0.01836560995629529                                                                                                    \n",
      "0.017844252239806388                                                                                                   \n",
      "0.01943336379596022                                                                                                    \n",
      "0.017895574189653735                                                                                                   \n",
      "0.018966075932118295                                                                                                   \n",
      "0.0179827951663545                                                                                                     \n",
      "0.02230085052465231                                                                                                    \n",
      "0.019490490797453824                                                                                                   \n",
      "0.01814644889553562                                                                                                    \n",
      "0.017870566319974326                                                                                                   \n",
      "0.02033739089773261                                                                                                    \n",
      "0.01855700584580897                                                                                                    \n",
      "0.02370306507806812                                                                                                    \n",
      "0.018529513281926775                                                                                                   \n",
      "0.017966932300054642                                                                                                   \n",
      "0.018379700819773442                                                                                                   \n",
      "0.028569025337236285                                                                                                   \n",
      "0.01939448513157969                                                                                                    \n"
     ]
    },
    {
     "name": "stdout",
     "output_type": "stream",
     "text": [
      "0.01815135793479248                                                                                                    \n",
      "0.017861811074752217                                                                                                   \n",
      "0.018272977570546033                                                                                                   \n",
      "0.032382123768147794                                                                                                   \n",
      "0.017908687618936714                                                                                                   \n",
      "0.018367459458213747                                                                                                   \n",
      "0.018239008562863125                                                                                                   \n",
      "0.01784199915392496                                                                                                    \n",
      "0.01794609578740442                                                                                                    \n",
      "0.0180077932388153                                                                                                     \n",
      "0.017888930642540796                                                                                                   \n",
      "0.017878562260963838                                                                                                   \n",
      "0.017839125351160574                                                                                                   \n",
      " 36%|███████████████▍                           | 539/1500 [24:58<17:40,  1.10s/trial, best loss: 0.017830684069666754]"
     ]
    },
    {
     "name": "stderr",
     "output_type": "stream",
     "text": [
      "C:\\Users\\SUJAN\\AppData\\Local\\Temp\\ipykernel_28728\\3362559442.py:183: RuntimeWarning: overflow encountered in power\n",
      "  return 1 / (1 + np.e ** (-x))\n",
      "\n"
     ]
    },
    {
     "name": "stdout",
     "output_type": "stream",
     "text": [
      "0.01789987586904165                                                                                                    \n",
      "0.017871876959938107                                                                                                   \n",
      "0.017862337824425097                                                                                                   \n",
      "0.017888749251777837                                                                                                   \n",
      "0.017848206429021525                                                                                                   \n",
      "0.017886839778825107                                                                                                   \n",
      " 36%|███████████████▌                           | 545/1500 [25:07<13:16,  1.20trial/s, best loss: 0.017830684069666754]"
     ]
    },
    {
     "name": "stderr",
     "output_type": "stream",
     "text": [
      "C:\\Users\\SUJAN\\AppData\\Local\\Temp\\ipykernel_28728\\3362559442.py:183: RuntimeWarning: overflow encountered in power\n",
      "  return 1 / (1 + np.e ** (-x))\n",
      "\n"
     ]
    },
    {
     "name": "stdout",
     "output_type": "stream",
     "text": [
      "0.01790648572745947                                                                                                    \n",
      " 36%|███████████████▋                           | 546/1500 [25:09<16:32,  1.04s/trial, best loss: 0.017830684069666754]"
     ]
    },
    {
     "name": "stderr",
     "output_type": "stream",
     "text": [
      "C:\\Users\\SUJAN\\AppData\\Local\\Temp\\ipykernel_28728\\3362559442.py:183: RuntimeWarning: overflow encountered in power\n",
      "  return 1 / (1 + np.e ** (-x))\n",
      "\n"
     ]
    },
    {
     "name": "stdout",
     "output_type": "stream",
     "text": [
      "0.017876410702243346                                                                                                   \n",
      "0.017825357740035186                                                                                                   \n",
      "0.017951770238799725                                                                                                   \n",
      " 37%|███████████████▋                           | 549/1500 [25:26<59:05,  3.73s/trial, best loss: 0.017825357740035186]"
     ]
    },
    {
     "name": "stderr",
     "output_type": "stream",
     "text": [
      "C:\\Users\\SUJAN\\AppData\\Local\\Temp\\ipykernel_28728\\3362559442.py:183: RuntimeWarning: overflow encountered in power\n",
      "  return 1 / (1 + np.e ** (-x))\n",
      "\n"
     ]
    },
    {
     "name": "stdout",
     "output_type": "stream",
     "text": [
      "0.017880256361678136                                                                                                   \n",
      "0.017824925045394752                                                                                                   \n",
      "0.017824029743743256                                                                                                   \n",
      "0.017877000390187112                                                                                                   \n",
      " 37%|███████████████▊                           | 553/1500 [25:42<53:07,  3.37s/trial, best loss: 0.017824029743743256]"
     ]
    },
    {
     "name": "stderr",
     "output_type": "stream",
     "text": [
      "C:\\Users\\SUJAN\\AppData\\Local\\Temp\\ipykernel_28728\\3362559442.py:183: RuntimeWarning: overflow encountered in power\n",
      "  return 1 / (1 + np.e ** (-x))\n",
      "\n"
     ]
    },
    {
     "name": "stdout",
     "output_type": "stream",
     "text": [
      "0.018453237636518897                                                                                                   \n",
      "0.017824602685413787                                                                                                   \n",
      "0.017823480526863007                                                                                                   \n",
      "0.0178994922934283                                                                                                     \n",
      "0.017877666739602806                                                                                                   \n",
      "0.017827262653806894                                                                                                   \n",
      "0.018538771370022092                                                                                                   \n",
      "0.017828101787407243                                                                                                   \n",
      "0.01782292369660301                                                                                                    \n",
      "0.017822666337490446                                                                                                   \n",
      "0.017877432685871865                                                                                                   \n",
      "0.017822462389949487                                                                                                   \n",
      " 38%|████████████████▏                          | 565/1500 [26:11<28:45,  1.85s/trial, best loss: 0.017822462389949487]"
     ]
    },
    {
     "name": "stderr",
     "output_type": "stream",
     "text": [
      "C:\\Users\\SUJAN\\AppData\\Local\\Temp\\ipykernel_28728\\3362559442.py:183: RuntimeWarning: overflow encountered in power\n",
      "  return 1 / (1 + np.e ** (-x))\n",
      "\n"
     ]
    },
    {
     "name": "stdout",
     "output_type": "stream",
     "text": [
      "0.017876543615085515                                                                                                   \n",
      "0.017829832570747606                                                                                                   \n",
      " 38%|████████████████▎                          | 567/1500 [26:23<52:01,  3.35s/trial, best loss: 0.017822462389949487]"
     ]
    },
    {
     "name": "stderr",
     "output_type": "stream",
     "text": [
      "C:\\Users\\SUJAN\\AppData\\Local\\Temp\\ipykernel_28728\\3362559442.py:183: RuntimeWarning: overflow encountered in power\n",
      "  return 1 / (1 + np.e ** (-x))\n",
      "\n"
     ]
    },
    {
     "name": "stdout",
     "output_type": "stream",
     "text": [
      "0.017883625239115297                                                                                                   \n",
      "0.017822461672499505                                                                                                   \n",
      "0.01782289911406099                                                                                                    \n",
      "0.017828428839300782                                                                                                   \n",
      " 38%|████████████████▎                          | 570/1500 [26:40<57:07,  3.69s/trial, best loss: 0.017822461672499505]"
     ]
    },
    {
     "name": "stderr",
     "output_type": "stream",
     "text": [
      "C:\\Users\\SUJAN\\AppData\\Local\\Temp\\ipykernel_28728\\3362559442.py:183: RuntimeWarning: overflow encountered in power\n",
      "  return 1 / (1 + np.e ** (-x))\n",
      "\n"
     ]
    },
    {
     "name": "stdout",
     "output_type": "stream",
     "text": [
      "0.017873263036032327                                                                                                   \n",
      "0.017822607345811713                                                                                                   \n",
      "0.01782259341442526                                                                                                    \n",
      "0.01783019664730741                                                                                                    \n",
      "0.017827396851423982                                                                                                   \n",
      "0.017883725406127315                                                                                                   \n",
      "0.017822979646828684                                                                                                   \n",
      "0.01782225429611477                                                                                                    \n",
      "0.01787926598343716                                                                                                    \n",
      "0.017822311147806795                                                                                                   \n",
      "0.017875807918096384                                                                                                   \n",
      "0.01782240493516045                                                                                                    \n",
      " 39%|█████████████████                           | 582/1500 [26:49<09:29,  1.61trial/s, best loss: 0.01782225429611477]"
     ]
    },
    {
     "name": "stderr",
     "output_type": "stream",
     "text": [
      "C:\\Users\\SUJAN\\AppData\\Local\\Temp\\ipykernel_28728\\3362559442.py:183: RuntimeWarning: overflow encountered in power\n",
      "  return 1 / (1 + np.e ** (-x))\n",
      "\n"
     ]
    },
    {
     "name": "stdout",
     "output_type": "stream",
     "text": [
      "0.017883978991215573                                                                                                   \n",
      "0.018385448450731486                                                                                                   \n",
      "0.01789852679348761                                                                                                    \n",
      "0.01790269744278719                                                                                                    \n",
      " 39%|█████████████████▏                          | 587/1500 [27:00<17:59,  1.18s/trial, best loss: 0.01782225429611477]"
     ]
    },
    {
     "name": "stderr",
     "output_type": "stream",
     "text": [
      "C:\\Users\\SUJAN\\AppData\\Local\\Temp\\ipykernel_28728\\3362559442.py:183: RuntimeWarning: overflow encountered in power\n",
      "  return 1 / (1 + np.e ** (-x))\n",
      "\n"
     ]
    },
    {
     "name": "stdout",
     "output_type": "stream",
     "text": [
      "0.017881482819453714                                                                                                   \n",
      " 39%|█████████████████▏                          | 588/1500 [27:05<37:17,  2.45s/trial, best loss: 0.01782225429611477]"
     ]
    },
    {
     "name": "stderr",
     "output_type": "stream",
     "text": [
      "C:\\Users\\SUJAN\\AppData\\Local\\Temp\\ipykernel_28728\\3362559442.py:183: RuntimeWarning: overflow encountered in power\n",
      "  return 1 / (1 + np.e ** (-x))\n",
      "\n"
     ]
    },
    {
     "name": "stdout",
     "output_type": "stream",
     "text": [
      "0.01787921626285575                                                                                                    \n",
      "0.017862032048389986                                                                                                   \n",
      "0.017882053176656268                                                                                                   \n",
      "0.017875579692256772                                                                                                   \n",
      " 39%|█████████████████▎                          | 592/1500 [27:12<24:33,  1.62s/trial, best loss: 0.01782225429611477]"
     ]
    },
    {
     "name": "stderr",
     "output_type": "stream",
     "text": [
      "C:\\Users\\SUJAN\\AppData\\Local\\Temp\\ipykernel_28728\\3362559442.py:183: RuntimeWarning: overflow encountered in power\n",
      "  return 1 / (1 + np.e ** (-x))\n",
      "\n"
     ]
    },
    {
     "name": "stdout",
     "output_type": "stream",
     "text": [
      "0.017883496290562816                                                                                                   \n",
      "0.017825777025605203                                                                                                   \n",
      " 40%|█████████████████▍                          | 594/1500 [27:16<24:40,  1.63s/trial, best loss: 0.01782225429611477]"
     ]
    },
    {
     "name": "stderr",
     "output_type": "stream",
     "text": [
      "C:\\Users\\SUJAN\\AppData\\Local\\Temp\\ipykernel_28728\\3362559442.py:183: RuntimeWarning: overflow encountered in power\n",
      "  return 1 / (1 + np.e ** (-x))\n",
      "\n"
     ]
    },
    {
     "name": "stdout",
     "output_type": "stream",
     "text": [
      "0.017876508534595787                                                                                                   \n",
      "0.017881367535836294                                                                                                   \n",
      " 40%|█████████████████▍                          | 596/1500 [27:29<59:40,  3.96s/trial, best loss: 0.01782225429611477]"
     ]
    },
    {
     "name": "stderr",
     "output_type": "stream",
     "text": [
      "C:\\Users\\SUJAN\\AppData\\Local\\Temp\\ipykernel_28728\\3362559442.py:183: RuntimeWarning: overflow encountered in power\n",
      "  return 1 / (1 + np.e ** (-x))\n",
      "\n"
     ]
    },
    {
     "name": "stdout",
     "output_type": "stream",
     "text": [
      "0.01788324136219088                                                                                                    \n",
      " 40%|████████████████▋                         | 597/1500 [27:35<1:08:31,  4.55s/trial, best loss: 0.01782225429611477]"
     ]
    },
    {
     "name": "stderr",
     "output_type": "stream",
     "text": [
      "C:\\Users\\SUJAN\\AppData\\Local\\Temp\\ipykernel_28728\\3362559442.py:183: RuntimeWarning: overflow encountered in power\n",
      "  return 1 / (1 + np.e ** (-x))\n",
      "\n"
     ]
    },
    {
     "name": "stdout",
     "output_type": "stream",
     "text": [
      "0.017868418492781514                                                                                                   \n",
      "0.017880781236975497                                                                                                   \n",
      " 40%|█████████████████▌                          | 599/1500 [27:37<40:40,  2.71s/trial, best loss: 0.01782225429611477]"
     ]
    },
    {
     "name": "stderr",
     "output_type": "stream",
     "text": [
      "C:\\Users\\SUJAN\\AppData\\Local\\Temp\\ipykernel_28728\\3362559442.py:183: RuntimeWarning: overflow encountered in power\n",
      "  return 1 / (1 + np.e ** (-x))\n",
      "\n"
     ]
    },
    {
     "name": "stdout",
     "output_type": "stream",
     "text": [
      "0.01788481861937829                                                                                                    \n",
      "0.017881810746924038                                                                                                   \n",
      "0.017875693317316203                                                                                                   \n",
      "0.01787639949869694                                                                                                    \n",
      " 40%|█████████████████▋                          | 603/1500 [27:47<43:57,  2.94s/trial, best loss: 0.01782225429611477]"
     ]
    },
    {
     "name": "stderr",
     "output_type": "stream",
     "text": [
      "C:\\Users\\SUJAN\\AppData\\Local\\Temp\\ipykernel_28728\\3362559442.py:183: RuntimeWarning: overflow encountered in power\n",
      "  return 1 / (1 + np.e ** (-x))\n",
      "\n"
     ]
    },
    {
     "name": "stdout",
     "output_type": "stream",
     "text": [
      "0.017877223315016018                                                                                                   \n",
      "0.01788684044644396                                                                                                    \n",
      "0.01788035499905654                                                                                                    \n",
      "0.017834397103126516                                                                                                   \n",
      "0.01812620178177137                                                                                                    \n",
      " 41%|█████████████████▊                          | 608/1500 [28:05<37:26,  2.52s/trial, best loss: 0.01782225429611477]"
     ]
    },
    {
     "name": "stderr",
     "output_type": "stream",
     "text": [
      "C:\\Users\\SUJAN\\AppData\\Local\\Temp\\ipykernel_28728\\3362559442.py:183: RuntimeWarning: overflow encountered in power\n",
      "  return 1 / (1 + np.e ** (-x))\n",
      "\n"
     ]
    },
    {
     "name": "stdout",
     "output_type": "stream",
     "text": [
      "0.01787629013089068                                                                                                    \n",
      " 41%|█████████████████▊                          | 609/1500 [28:07<36:13,  2.44s/trial, best loss: 0.01782225429611477]"
     ]
    },
    {
     "name": "stderr",
     "output_type": "stream",
     "text": [
      "C:\\Users\\SUJAN\\AppData\\Local\\Temp\\ipykernel_28728\\3362559442.py:183: RuntimeWarning: overflow encountered in power\n",
      "  return 1 / (1 + np.e ** (-x))\n",
      "\n"
     ]
    },
    {
     "name": "stdout",
     "output_type": "stream",
     "text": [
      "0.01787774597041182                                                                                                    \n",
      " 41%|█████████████████▉                          | 610/1500 [28:09<33:38,  2.27s/trial, best loss: 0.01782225429611477]"
     ]
    },
    {
     "name": "stderr",
     "output_type": "stream",
     "text": [
      "C:\\Users\\SUJAN\\AppData\\Local\\Temp\\ipykernel_28728\\3362559442.py:183: RuntimeWarning: overflow encountered in power\n",
      "  return 1 / (1 + np.e ** (-x))\n",
      "\n"
     ]
    },
    {
     "name": "stdout",
     "output_type": "stream",
     "text": [
      "0.017875301884949336                                                                                                   \n",
      " 41%|█████████████████                         | 611/1500 [28:27<1:39:30,  6.72s/trial, best loss: 0.01782225429611477]"
     ]
    },
    {
     "name": "stderr",
     "output_type": "stream",
     "text": [
      "C:\\Users\\SUJAN\\AppData\\Local\\Temp\\ipykernel_28728\\3362559442.py:183: RuntimeWarning: overflow encountered in power\n",
      "  return 1 / (1 + np.e ** (-x))\n",
      "\n"
     ]
    },
    {
     "name": "stdout",
     "output_type": "stream",
     "text": [
      "0.017881862389112                                                                                                      \n",
      " 41%|█████████████████▏                        | 612/1500 [28:31<1:24:37,  5.72s/trial, best loss: 0.01782225429611477]"
     ]
    },
    {
     "name": "stderr",
     "output_type": "stream",
     "text": [
      "C:\\Users\\SUJAN\\AppData\\Local\\Temp\\ipykernel_28728\\3362559442.py:183: RuntimeWarning: overflow encountered in power\n",
      "  return 1 / (1 + np.e ** (-x))\n",
      "\n"
     ]
    },
    {
     "name": "stdout",
     "output_type": "stream",
     "text": [
      "0.017889257514418118                                                                                                   \n",
      " 41%|█████████████████▏                        | 613/1500 [28:39<1:33:53,  6.35s/trial, best loss: 0.01782225429611477]"
     ]
    },
    {
     "name": "stderr",
     "output_type": "stream",
     "text": [
      "C:\\Users\\SUJAN\\AppData\\Local\\Temp\\ipykernel_28728\\3362559442.py:183: RuntimeWarning: overflow encountered in power\n",
      "  return 1 / (1 + np.e ** (-x))\n",
      "\n"
     ]
    },
    {
     "name": "stdout",
     "output_type": "stream",
     "text": [
      "0.01787790535531651                                                                                                    \n",
      " 41%|█████████████████▏                        | 614/1500 [28:47<1:44:22,  7.07s/trial, best loss: 0.01782225429611477]"
     ]
    },
    {
     "name": "stderr",
     "output_type": "stream",
     "text": [
      "C:\\Users\\SUJAN\\AppData\\Local\\Temp\\ipykernel_28728\\3362559442.py:183: RuntimeWarning: overflow encountered in power\n",
      "  return 1 / (1 + np.e ** (-x))\n",
      "\n"
     ]
    },
    {
     "name": "stdout",
     "output_type": "stream",
     "text": [
      "0.018196920511933525                                                                                                   \n",
      " 41%|█████████████████▏                        | 615/1500 [28:49<1:20:05,  5.43s/trial, best loss: 0.01782225429611477]"
     ]
    },
    {
     "name": "stderr",
     "output_type": "stream",
     "text": [
      "C:\\Users\\SUJAN\\AppData\\Local\\Temp\\ipykernel_28728\\3362559442.py:183: RuntimeWarning: overflow encountered in power\n",
      "  return 1 / (1 + np.e ** (-x))\n",
      "\n"
     ]
    },
    {
     "name": "stdout",
     "output_type": "stream",
     "text": [
      "0.01788414946545899                                                                                                    \n",
      " 41%|█████████████████▏                        | 616/1500 [28:52<1:11:31,  4.85s/trial, best loss: 0.01782225429611477]"
     ]
    },
    {
     "name": "stderr",
     "output_type": "stream",
     "text": [
      "C:\\Users\\SUJAN\\AppData\\Local\\Temp\\ipykernel_28728\\3362559442.py:183: RuntimeWarning: overflow encountered in power\n",
      "  return 1 / (1 + np.e ** (-x))\n",
      "\n"
     ]
    },
    {
     "name": "stdout",
     "output_type": "stream",
     "text": [
      "0.017883419913747606                                                                                                   \n",
      "0.017879313858595626                                                                                                   \n",
      "0.017830728879827916                                                                                                   \n",
      "0.018009454460752854                                                                                                   \n",
      "0.01788620112123694                                                                                                    \n",
      "0.0178803705677099                                                                                                     \n",
      "0.017871612632394434                                                                                                   \n",
      " 42%|██████████████████▎                         | 623/1500 [29:22<33:14,  2.27s/trial, best loss: 0.01782225429611477]"
     ]
    },
    {
     "name": "stderr",
     "output_type": "stream",
     "text": [
      "C:\\Users\\SUJAN\\AppData\\Local\\Temp\\ipykernel_28728\\3362559442.py:183: RuntimeWarning: overflow encountered in power\n",
      "  return 1 / (1 + np.e ** (-x))\n",
      "\n"
     ]
    },
    {
     "name": "stdout",
     "output_type": "stream",
     "text": [
      "0.017876962638412656                                                                                                   \n",
      " 42%|█████████████████▍                        | 624/1500 [29:32<1:05:28,  4.48s/trial, best loss: 0.01782225429611477]"
     ]
    },
    {
     "name": "stderr",
     "output_type": "stream",
     "text": [
      "C:\\Users\\SUJAN\\AppData\\Local\\Temp\\ipykernel_28728\\3362559442.py:183: RuntimeWarning: overflow encountered in power\n",
      "  return 1 / (1 + np.e ** (-x))\n",
      "\n"
     ]
    },
    {
     "name": "stdout",
     "output_type": "stream",
     "text": [
      "0.01787632542639977                                                                                                    \n",
      "0.018459603322492284                                                                                                   \n",
      " 42%|█████████████████▌                        | 626/1500 [29:43<1:15:12,  5.16s/trial, best loss: 0.01782225429611477]"
     ]
    },
    {
     "name": "stderr",
     "output_type": "stream",
     "text": [
      "C:\\Users\\SUJAN\\AppData\\Local\\Temp\\ipykernel_28728\\3362559442.py:183: RuntimeWarning: overflow encountered in power\n",
      "  return 1 / (1 + np.e ** (-x))\n",
      "\n"
     ]
    },
    {
     "name": "stdout",
     "output_type": "stream",
     "text": [
      "0.018285249254025974                                                                                                   \n",
      "0.017885194622049006                                                                                                   \n",
      "0.018014462270222468                                                                                                   \n",
      "0.03701773003252882                                                                                                    \n",
      "0.017884215067011853                                                                                                   \n",
      "0.017882935599579278                                                                                                   \n",
      "0.01800218932027181                                                                                                    \n",
      "0.01794421451842514                                                                                                    \n",
      "0.0185188629845483                                                                                                     \n",
      "0.017888990799545316                                                                                                   \n",
      "0.018042738284557432                                                                                                   \n",
      " 42%|██████████████████▋                         | 637/1500 [30:25<48:34,  3.38s/trial, best loss: 0.01782225429611477]"
     ]
    },
    {
     "name": "stderr",
     "output_type": "stream",
     "text": [
      "C:\\Users\\SUJAN\\AppData\\Local\\Temp\\ipykernel_28728\\3362559442.py:183: RuntimeWarning: overflow encountered in power\n",
      "  return 1 / (1 + np.e ** (-x))\n",
      "\n"
     ]
    },
    {
     "name": "stdout",
     "output_type": "stream",
     "text": [
      "0.017890840020490184                                                                                                   \n",
      "0.017877510380950385                                                                                                   \n",
      "0.017898388065765016                                                                                                   \n",
      "0.018001111437311545                                                                                                   \n",
      "0.018009226224199912                                                                                                   \n",
      "0.01788681560188415                                                                                                    \n",
      "0.02219779687928504                                                                                                    \n",
      " 43%|██████████████████▉                         | 644/1500 [30:57<49:06,  3.44s/trial, best loss: 0.01782225429611477]"
     ]
    },
    {
     "name": "stderr",
     "output_type": "stream",
     "text": [
      "C:\\Users\\SUJAN\\AppData\\Local\\Temp\\ipykernel_28728\\3362559442.py:183: RuntimeWarning: overflow encountered in power\n",
      "  return 1 / (1 + np.e ** (-x))\n",
      "\n"
     ]
    },
    {
     "name": "stdout",
     "output_type": "stream",
     "text": [
      "0.017887850366187678                                                                                                   \n",
      "0.017879821676409665                                                                                                   \n",
      " 43%|██████████████████▉                         | 646/1500 [31:01<36:24,  2.56s/trial, best loss: 0.01782225429611477]"
     ]
    },
    {
     "name": "stderr",
     "output_type": "stream",
     "text": [
      "C:\\Users\\SUJAN\\AppData\\Local\\Temp\\ipykernel_28728\\3362559442.py:183: RuntimeWarning: overflow encountered in power\n",
      "  return 1 / (1 + np.e ** (-x))\n",
      "\n"
     ]
    },
    {
     "name": "stdout",
     "output_type": "stream",
     "text": [
      "0.018035050947628327                                                                                                   \n",
      " 43%|██████████████████▉                         | 647/1500 [31:09<56:55,  4.00s/trial, best loss: 0.01782225429611477]"
     ]
    },
    {
     "name": "stderr",
     "output_type": "stream",
     "text": [
      "C:\\Users\\SUJAN\\AppData\\Local\\Temp\\ipykernel_28728\\3362559442.py:183: RuntimeWarning: overflow encountered in power\n",
      "  return 1 / (1 + np.e ** (-x))\n",
      "\n"
     ]
    },
    {
     "name": "stdout",
     "output_type": "stream",
     "text": [
      "0.01787471921755099                                                                                                    \n",
      "0.017863919386649878                                                                                                   \n",
      "0.01795415868726224                                                                                                    \n",
      " 43%|███████████████████                         | 650/1500 [31:19<55:38,  3.93s/trial, best loss: 0.01782225429611477]"
     ]
    },
    {
     "name": "stderr",
     "output_type": "stream",
     "text": [
      "C:\\Users\\SUJAN\\AppData\\Local\\Temp\\ipykernel_28728\\3362559442.py:183: RuntimeWarning: overflow encountered in power\n",
      "  return 1 / (1 + np.e ** (-x))\n",
      "\n"
     ]
    },
    {
     "name": "stdout",
     "output_type": "stream",
     "text": [
      "0.017895749605871605                                                                                                   \n",
      "0.017869175675742106                                                                                                   \n",
      "0.0178846331154475                                                                                                     \n",
      "0.018334760397988138                                                                                                   \n",
      "0.017830601672490013                                                                                                   \n",
      "0.018000360091951446                                                                                                   \n",
      "0.017885490203896973                                                                                                   \n",
      "0.01834995240922305                                                                                                    \n",
      "0.017880186776180723                                                                                                   \n",
      "0.017883315895457486                                                                                                   \n",
      "0.0179657184420223                                                                                                     \n",
      "0.018108705792901032                                                                                                   \n",
      "0.017886801058463127                                                                                                   \n",
      "0.017884245052500233                                                                                                   \n",
      "0.017892603126035845                                                                                                   \n",
      "0.01810007598741945                                                                                                    \n",
      " 44%|███████████████████▌                        | 666/1500 [32:27<26:03,  1.87s/trial, best loss: 0.01782225429611477]"
     ]
    },
    {
     "name": "stderr",
     "output_type": "stream",
     "text": [
      "C:\\Users\\SUJAN\\AppData\\Local\\Temp\\ipykernel_28728\\3362559442.py:183: RuntimeWarning: overflow encountered in power\n",
      "  return 1 / (1 + np.e ** (-x))\n",
      "\n"
     ]
    },
    {
     "name": "stdout",
     "output_type": "stream",
     "text": [
      "0.01787651824420387                                                                                                    \n",
      " 44%|██████████████████▋                       | 667/1500 [32:37<1:00:27,  4.35s/trial, best loss: 0.01782225429611477]"
     ]
    },
    {
     "name": "stderr",
     "output_type": "stream",
     "text": [
      "C:\\Users\\SUJAN\\AppData\\Local\\Temp\\ipykernel_28728\\3362559442.py:183: RuntimeWarning: overflow encountered in power\n",
      "  return 1 / (1 + np.e ** (-x))\n",
      "\n"
     ]
    },
    {
     "name": "stdout",
     "output_type": "stream",
     "text": [
      "0.017897343528047914                                                                                                   \n",
      "0.018298974383888948                                                                                                   \n",
      "0.017991381040598744                                                                                                   \n",
      "0.018741911348312882                                                                                                   \n",
      "0.018197202191061256                                                                                                   \n",
      "0.018023756977383336                                                                                                   \n",
      " 45%|███████████████████▋                        | 673/1500 [32:59<43:37,  3.17s/trial, best loss: 0.01782225429611477]"
     ]
    },
    {
     "name": "stderr",
     "output_type": "stream",
     "text": [
      "C:\\Users\\SUJAN\\AppData\\Local\\Temp\\ipykernel_28728\\3362559442.py:183: RuntimeWarning: overflow encountered in power\n",
      "  return 1 / (1 + np.e ** (-x))\n",
      "\n"
     ]
    },
    {
     "name": "stdout",
     "output_type": "stream",
     "text": [
      "0.017875584039647053                                                                                                   \n",
      "0.017953717087638422                                                                                                   \n",
      "0.017891201586102363                                                                                                   \n",
      "0.017892001117029394                                                                                                   \n",
      "0.017869945039211334                                                                                                   \n",
      " 45%|███████████████████▉                        | 678/1500 [33:21<51:31,  3.76s/trial, best loss: 0.01782225429611477]"
     ]
    },
    {
     "name": "stderr",
     "output_type": "stream",
     "text": [
      "C:\\Users\\SUJAN\\AppData\\Local\\Temp\\ipykernel_28728\\3362559442.py:183: RuntimeWarning: overflow encountered in power\n",
      "  return 1 / (1 + np.e ** (-x))\n",
      "\n"
     ]
    },
    {
     "name": "stdout",
     "output_type": "stream",
     "text": [
      "0.017884364310165334                                                                                                   \n",
      " 45%|███████████████████                       | 679/1500 [33:51<2:36:54, 11.47s/trial, best loss: 0.01782225429611477]"
     ]
    },
    {
     "name": "stderr",
     "output_type": "stream",
     "text": [
      "C:\\Users\\SUJAN\\AppData\\Local\\Temp\\ipykernel_28728\\3362559442.py:183: RuntimeWarning: overflow encountered in power\n",
      "  return 1 / (1 + np.e ** (-x))\n",
      "\n"
     ]
    },
    {
     "name": "stdout",
     "output_type": "stream",
     "text": [
      "0.01788721375781628                                                                                                    \n",
      "0.01782232700363737                                                                                                    \n",
      "0.017930531604649493                                                                                                   \n",
      "0.01788400981737492                                                                                                    \n",
      "0.017875573221069557                                                                                                   \n",
      "0.018407767392197485                                                                                                   \n",
      "0.018305797472708957                                                                                                   \n",
      " 46%|████████████████████                        | 686/1500 [34:06<45:57,  3.39s/trial, best loss: 0.01782225429611477]"
     ]
    },
    {
     "name": "stderr",
     "output_type": "stream",
     "text": [
      "C:\\Users\\SUJAN\\AppData\\Local\\Temp\\ipykernel_28728\\3362559442.py:183: RuntimeWarning: overflow encountered in power\n",
      "  return 1 / (1 + np.e ** (-x))\n",
      "\n"
     ]
    },
    {
     "name": "stdout",
     "output_type": "stream",
     "text": [
      "0.01789063210910241                                                                                                    \n",
      "0.017888639574314524                                                                                                   \n",
      "0.018138367024500904                                                                                                   \n",
      " 46%|████████████████████▏                       | 689/1500 [34:09<27:33,  2.04s/trial, best loss: 0.01782225429611477]"
     ]
    },
    {
     "name": "stderr",
     "output_type": "stream",
     "text": [
      "C:\\Users\\SUJAN\\AppData\\Local\\Temp\\ipykernel_28728\\3362559442.py:183: RuntimeWarning: overflow encountered in power\n",
      "  return 1 / (1 + np.e ** (-x))\n",
      "\n"
     ]
    },
    {
     "name": "stdout",
     "output_type": "stream",
     "text": [
      "0.017879246092590614                                                                                                   \n",
      "0.01785672463382831                                                                                                    \n",
      "0.018003901625761824                                                                                                   \n",
      "0.01788281151195386                                                                                                    \n",
      "0.017893794498503757                                                                                                   \n",
      "0.018077883917208156                                                                                                   \n",
      "0.01815116240122838                                                                                                    \n",
      " 46%|████████████████████▍                       | 696/1500 [34:16<13:29,  1.01s/trial, best loss: 0.01782225429611477]"
     ]
    },
    {
     "name": "stderr",
     "output_type": "stream",
     "text": [
      "C:\\Users\\SUJAN\\AppData\\Local\\Temp\\ipykernel_28728\\3362559442.py:183: RuntimeWarning: overflow encountered in power\n",
      "  return 1 / (1 + np.e ** (-x))\n",
      "\n"
     ]
    },
    {
     "name": "stdout",
     "output_type": "stream",
     "text": [
      "0.01840409163488237                                                                                                    \n",
      "0.017874230786150774                                                                                                   \n",
      " 47%|████████████████████▍                       | 698/1500 [34:30<43:16,  3.24s/trial, best loss: 0.01782225429611477]"
     ]
    },
    {
     "name": "stderr",
     "output_type": "stream",
     "text": [
      "C:\\Users\\SUJAN\\AppData\\Local\\Temp\\ipykernel_28728\\3362559442.py:183: RuntimeWarning: overflow encountered in power\n",
      "  return 1 / (1 + np.e ** (-x))\n",
      "\n"
     ]
    },
    {
     "name": "stdout",
     "output_type": "stream",
     "text": [
      "0.017900161284316787                                                                                                   \n",
      " 47%|████████████████████▌                       | 699/1500 [34:30<32:37,  2.44s/trial, best loss: 0.01782225429611477]"
     ]
    },
    {
     "name": "stderr",
     "output_type": "stream",
     "text": [
      "C:\\Users\\SUJAN\\AppData\\Local\\Temp\\ipykernel_28728\\3362559442.py:183: RuntimeWarning: overflow encountered in power\n",
      "  return 1 / (1 + np.e ** (-x))\n",
      "\n"
     ]
    },
    {
     "name": "stdout",
     "output_type": "stream",
     "text": [
      "0.017888700404469934                                                                                                   \n",
      "0.028642860481617155                                                                                                   \n",
      "0.017971736179743746                                                                                                   \n",
      "0.017895256687022992                                                                                                   \n",
      "0.017869844984418206                                                                                                   \n",
      "0.017873261431543986                                                                                                   \n",
      "0.017897342153229585                                                                                                   \n",
      "0.017824605349859367                                                                                                   \n",
      "0.01802359972348008                                                                                                    \n",
      "0.01789350237894496                                                                                                    \n",
      "0.018619029251115013                                                                                                   \n",
      " 47%|████████████████████▊                       | 710/1500 [34:52<22:11,  1.69s/trial, best loss: 0.01782225429611477]"
     ]
    },
    {
     "name": "stderr",
     "output_type": "stream",
     "text": [
      "C:\\Users\\SUJAN\\AppData\\Local\\Temp\\ipykernel_28728\\3362559442.py:183: RuntimeWarning: overflow encountered in power\n",
      "  return 1 / (1 + np.e ** (-x))\n",
      "\n"
     ]
    },
    {
     "name": "stdout",
     "output_type": "stream",
     "text": [
      "0.017888966054512286                                                                                                   \n",
      "0.017878729645181505                                                                                                   \n",
      "0.018007552023255                                                                                                      \n",
      "0.018003335806897804                                                                                                   \n",
      "0.017908299555479495                                                                                                   \n",
      " 48%|████████████████████▉                       | 715/1500 [35:14<43:39,  3.34s/trial, best loss: 0.01782225429611477]"
     ]
    },
    {
     "name": "stderr",
     "output_type": "stream",
     "text": [
      "C:\\Users\\SUJAN\\AppData\\Local\\Temp\\ipykernel_28728\\3362559442.py:183: RuntimeWarning: overflow encountered in power\n",
      "  return 1 / (1 + np.e ** (-x))\n",
      "\n"
     ]
    },
    {
     "name": "stdout",
     "output_type": "stream",
     "text": [
      "0.01789861876872966                                                                                                    \n",
      "0.01795179799157509                                                                                                    \n",
      "0.017901210341391582                                                                                                   \n",
      "0.01792003831766337                                                                                                    \n",
      "0.01800205486844957                                                                                                    \n",
      "0.017870280574204256                                                                                                   \n",
      "0.017890538348468796                                                                                                   \n",
      "0.017861930806134033                                                                                                   \n",
      "0.0182988102418751                                                                                                     \n",
      "0.017902304670215086                                                                                                   \n",
      " 48%|█████████████████████▎                      | 725/1500 [35:39<22:52,  1.77s/trial, best loss: 0.01782225429611477]"
     ]
    },
    {
     "name": "stderr",
     "output_type": "stream",
     "text": [
      "C:\\Users\\SUJAN\\AppData\\Local\\Temp\\ipykernel_28728\\3362559442.py:183: RuntimeWarning: overflow encountered in power\n",
      "  return 1 / (1 + np.e ** (-x))\n",
      "\n"
     ]
    },
    {
     "name": "stdout",
     "output_type": "stream",
     "text": [
      "0.017880999025695878                                                                                                   \n",
      "0.017960003672013003                                                                                                   \n",
      "0.025715943877832662                                                                                                   \n",
      "0.018000846221840065                                                                                                   \n",
      "0.01788991345178148                                                                                                    \n",
      "0.017952558693117765                                                                                                   \n",
      " 49%|█████████████████████▍                      | 731/1500 [36:00<44:45,  3.49s/trial, best loss: 0.01782225429611477]"
     ]
    },
    {
     "name": "stderr",
     "output_type": "stream",
     "text": [
      "C:\\Users\\SUJAN\\AppData\\Local\\Temp\\ipykernel_28728\\3362559442.py:183: RuntimeWarning: overflow encountered in power\n",
      "  return 1 / (1 + np.e ** (-x))\n",
      "\n"
     ]
    },
    {
     "name": "stdout",
     "output_type": "stream",
     "text": [
      "0.017884648052589276                                                                                                   \n",
      "0.018004075345629835                                                                                                   \n",
      "0.01791080863068227                                                                                                    \n",
      "0.01789489183351268                                                                                                    \n",
      " 49%|█████████████████████▌                      | 735/1500 [36:24<48:58,  3.84s/trial, best loss: 0.01782225429611477]"
     ]
    },
    {
     "name": "stderr",
     "output_type": "stream",
     "text": [
      "C:\\Users\\SUJAN\\AppData\\Local\\Temp\\ipykernel_28728\\3362559442.py:183: RuntimeWarning: overflow encountered in power\n",
      "  return 1 / (1 + np.e ** (-x))\n",
      "\n"
     ]
    },
    {
     "name": "stdout",
     "output_type": "stream",
     "text": [
      "0.017891654440253982                                                                                                   \n",
      " 49%|████████████████████▌                     | 736/1500 [36:38<1:28:36,  6.96s/trial, best loss: 0.01782225429611477]"
     ]
    },
    {
     "name": "stderr",
     "output_type": "stream",
     "text": [
      "C:\\Users\\SUJAN\\AppData\\Local\\Temp\\ipykernel_28728\\3362559442.py:183: RuntimeWarning: overflow encountered in power\n",
      "  return 1 / (1 + np.e ** (-x))\n",
      "\n"
     ]
    },
    {
     "name": "stdout",
     "output_type": "stream",
     "text": [
      "0.017878454930683466                                                                                                   \n",
      "0.017961885621987087                                                                                                   \n",
      " 49%|████████████████████▋                     | 738/1500 [36:52<1:21:57,  6.45s/trial, best loss: 0.01782225429611477]"
     ]
    },
    {
     "name": "stderr",
     "output_type": "stream",
     "text": [
      "C:\\Users\\SUJAN\\AppData\\Local\\Temp\\ipykernel_28728\\3362559442.py:183: RuntimeWarning: overflow encountered in power\n",
      "  return 1 / (1 + np.e ** (-x))\n",
      "\n"
     ]
    },
    {
     "name": "stdout",
     "output_type": "stream",
     "text": [
      "0.017881729634841005                                                                                                   \n",
      "0.017818060047508695                                                                                                   \n",
      "0.018345697395742037                                                                                                   \n",
      "0.017894568305245565                                                                                                   \n",
      "0.017913048246061037                                                                                                   \n",
      " 50%|█████████████████████▎                     | 743/1500 [37:04<36:19,  2.88s/trial, best loss: 0.017818060047508695]"
     ]
    },
    {
     "name": "stderr",
     "output_type": "stream",
     "text": [
      "C:\\Users\\SUJAN\\AppData\\Local\\Temp\\ipykernel_28728\\3362559442.py:183: RuntimeWarning: overflow encountered in power\n",
      "  return 1 / (1 + np.e ** (-x))\n",
      "\n"
     ]
    },
    {
     "name": "stdout",
     "output_type": "stream",
     "text": [
      "0.017884005870676917                                                                                                   \n",
      "0.01814476302517988                                                                                                    \n",
      "0.018003858257025558                                                                                                   \n",
      "0.017964455419010993                                                                                                   \n",
      "0.017880887005251863                                                                                                   \n",
      "0.017884046756897504                                                                                                   \n",
      "0.017885078715174505                                                                                                   \n",
      " 50%|█████████████████████▍                     | 749/1500 [37:36<53:22,  4.26s/trial, best loss: 0.017818060047508695]"
     ]
    },
    {
     "name": "stderr",
     "output_type": "stream",
     "text": [
      "C:\\Users\\SUJAN\\AppData\\Local\\Temp\\ipykernel_28728\\3362559442.py:183: RuntimeWarning: overflow encountered in power\n",
      "  return 1 / (1 + np.e ** (-x))\n",
      "\n"
     ]
    },
    {
     "name": "stdout",
     "output_type": "stream",
     "text": [
      "0.01787382396036167                                                                                                    \n",
      "0.018014265895976527                                                                                                   \n",
      "0.017883152537638072                                                                                                   \n",
      "0.01789775488715658                                                                                                    \n",
      "0.017887791302829144                                                                                                   \n",
      "0.018029442277817383                                                                                                   \n",
      "0.01799845952115631                                                                                                    \n",
      "0.01781732755113601                                                                                                    \n",
      "0.017876581352807154                                                                                                   \n",
      "0.017955881717769514                                                                                                   \n",
      "0.01788709898066595                                                                                                    \n",
      "0.017847628430773168                                                                                                   \n",
      "0.01847864039878715                                                                                                    \n",
      " 51%|██████████████████████▍                     | 763/1500 [38:16<28:31,  2.32s/trial, best loss: 0.01781732755113601]"
     ]
    },
    {
     "name": "stderr",
     "output_type": "stream",
     "text": [
      "C:\\Users\\SUJAN\\AppData\\Local\\Temp\\ipykernel_28728\\3362559442.py:183: RuntimeWarning: overflow encountered in power\n",
      "  return 1 / (1 + np.e ** (-x))\n",
      "\n"
     ]
    },
    {
     "name": "stdout",
     "output_type": "stream",
     "text": [
      "0.01787614737946191                                                                                                    \n",
      " 51%|█████████████████████▍                    | 764/1500 [38:31<1:13:37,  6.00s/trial, best loss: 0.01781732755113601]"
     ]
    },
    {
     "name": "stderr",
     "output_type": "stream",
     "text": [
      "C:\\Users\\SUJAN\\AppData\\Local\\Temp\\ipykernel_28728\\3362559442.py:183: RuntimeWarning: overflow encountered in power\n",
      "  return 1 / (1 + np.e ** (-x))\n",
      "\n"
     ]
    },
    {
     "name": "stdout",
     "output_type": "stream",
     "text": [
      "0.017882830883661095                                                                                                   \n",
      "0.017885575466317902                                                                                                   \n",
      "0.017954964109476154                                                                                                   \n",
      "0.017888563900031042                                                                                                   \n",
      "0.018039746752854014                                                                                                   \n",
      "0.018006346004951903                                                                                                   \n",
      "0.01804742236023278                                                                                                    \n",
      "0.017888905237290555                                                                                                   \n",
      "0.01825845126248449                                                                                                    \n",
      "0.017891545573011435                                                                                                   \n",
      "0.018031363287818597                                                                                                   \n",
      " 52%|██████████████████████▋                     | 775/1500 [38:57<25:28,  2.11s/trial, best loss: 0.01781732755113601]"
     ]
    },
    {
     "name": "stderr",
     "output_type": "stream",
     "text": [
      "C:\\Users\\SUJAN\\AppData\\Local\\Temp\\ipykernel_28728\\3362559442.py:183: RuntimeWarning: overflow encountered in power\n",
      "  return 1 / (1 + np.e ** (-x))\n",
      "\n"
     ]
    },
    {
     "name": "stdout",
     "output_type": "stream",
     "text": [
      "0.017963672683398997                                                                                                   \n",
      "0.01787731244988327                                                                                                    \n",
      "0.01790397568975666                                                                                                    \n",
      "0.01791086705009045                                                                                                    \n",
      "0.017895119235784313                                                                                                   \n",
      " 52%|██████████████████████▉                     | 780/1500 [39:18<31:12,  2.60s/trial, best loss: 0.01781732755113601]"
     ]
    },
    {
     "name": "stderr",
     "output_type": "stream",
     "text": [
      "C:\\Users\\SUJAN\\AppData\\Local\\Temp\\ipykernel_28728\\3362559442.py:183: RuntimeWarning: overflow encountered in power\n",
      "  return 1 / (1 + np.e ** (-x))\n",
      "\n"
     ]
    },
    {
     "name": "stdout",
     "output_type": "stream",
     "text": [
      "0.017890817454653568                                                                                                   \n",
      "0.017877531111583342                                                                                                   \n",
      "0.01794691857843974                                                                                                    \n",
      "0.04388235031889635                                                                                                    \n",
      "0.01789215351637316                                                                                                    \n",
      "0.017825308433644514                                                                                                   \n",
      "0.01782884648127772                                                                                                    \n",
      "0.017825449340171034                                                                                                   \n",
      "0.017817950950121387                                                                                                   \n",
      " 53%|███████████████████████▏                    | 789/1500 [39:25<06:09,  1.93trial/s, best loss: 0.01781732755113601]"
     ]
    },
    {
     "name": "stderr",
     "output_type": "stream",
     "text": [
      "C:\\Users\\SUJAN\\AppData\\Local\\Temp\\ipykernel_28728\\3362559442.py:183: RuntimeWarning: overflow encountered in power\n",
      "  return 1 / (1 + np.e ** (-x))\n",
      "\n"
     ]
    },
    {
     "name": "stdout",
     "output_type": "stream",
     "text": [
      "0.01787916011602734                                                                                                    \n",
      "0.01782948114325452                                                                                                    \n",
      "0.017884783414982383                                                                                                   \n",
      " 53%|███████████████████████▏                    | 792/1500 [39:30<12:15,  1.04s/trial, best loss: 0.01781732755113601]"
     ]
    },
    {
     "name": "stderr",
     "output_type": "stream",
     "text": [
      "C:\\Users\\SUJAN\\AppData\\Local\\Temp\\ipykernel_28728\\3362559442.py:183: RuntimeWarning: overflow encountered in power\n",
      "  return 1 / (1 + np.e ** (-x))\n",
      "\n"
     ]
    },
    {
     "name": "stdout",
     "output_type": "stream",
     "text": [
      "0.017887164718663646                                                                                                   \n",
      " 53%|███████████████████████▎                    | 793/1500 [39:44<50:18,  4.27s/trial, best loss: 0.01781732755113601]"
     ]
    },
    {
     "name": "stderr",
     "output_type": "stream",
     "text": [
      "C:\\Users\\SUJAN\\AppData\\Local\\Temp\\ipykernel_28728\\3362559442.py:183: RuntimeWarning: overflow encountered in power\n",
      "  return 1 / (1 + np.e ** (-x))\n",
      "\n"
     ]
    },
    {
     "name": "stdout",
     "output_type": "stream",
     "text": [
      "0.017861917189309056                                                                                                   \n",
      "0.01787883882570364                                                                                                    \n",
      "0.017890022037379022                                                                                                   \n",
      " 53%|███████████████████████▎                    | 796/1500 [39:50<36:55,  3.15s/trial, best loss: 0.01781732755113601]"
     ]
    },
    {
     "name": "stderr",
     "output_type": "stream",
     "text": [
      "C:\\Users\\SUJAN\\AppData\\Local\\Temp\\ipykernel_28728\\3362559442.py:183: RuntimeWarning: overflow encountered in power\n",
      "  return 1 / (1 + np.e ** (-x))\n",
      "\n"
     ]
    },
    {
     "name": "stdout",
     "output_type": "stream",
     "text": [
      "0.017884097665750307                                                                                                   \n",
      "0.017911985110715085                                                                                                   \n",
      "0.017874719035114818                                                                                                   \n",
      "0.017880936002137388                                                                                                   \n",
      " 53%|███████████████████████▍                    | 800/1500 [39:59<20:19,  1.74s/trial, best loss: 0.01781732755113601]"
     ]
    },
    {
     "name": "stderr",
     "output_type": "stream",
     "text": [
      "C:\\Users\\SUJAN\\AppData\\Local\\Temp\\ipykernel_28728\\3362559442.py:183: RuntimeWarning: overflow encountered in power\n",
      "  return 1 / (1 + np.e ** (-x))\n",
      "\n"
     ]
    },
    {
     "name": "stdout",
     "output_type": "stream",
     "text": [
      "0.01789384647583312                                                                                                    \n",
      "0.01782568676832075                                                                                                    \n",
      " 53%|██████████████████████▍                   | 802/1500 [40:20<1:02:40,  5.39s/trial, best loss: 0.01781732755113601]"
     ]
    },
    {
     "name": "stderr",
     "output_type": "stream",
     "text": [
      "C:\\Users\\SUJAN\\AppData\\Local\\Temp\\ipykernel_28728\\3362559442.py:183: RuntimeWarning: overflow encountered in power\n",
      "  return 1 / (1 + np.e ** (-x))\n",
      "\n"
     ]
    },
    {
     "name": "stdout",
     "output_type": "stream",
     "text": [
      "0.01787450785814909                                                                                                    \n",
      "0.01785120349211951                                                                                                    \n",
      "0.017829675717950896                                                                                                   \n",
      "0.017884595048729343                                                                                                   \n",
      "0.018707122309810923                                                                                                   \n",
      " 54%|███████████████████████▋                    | 807/1500 [40:33<26:31,  2.30s/trial, best loss: 0.01781732755113601]"
     ]
    },
    {
     "name": "stderr",
     "output_type": "stream",
     "text": [
      "C:\\Users\\SUJAN\\AppData\\Local\\Temp\\ipykernel_28728\\3362559442.py:183: RuntimeWarning: overflow encountered in power\n",
      "  return 1 / (1 + np.e ** (-x))\n",
      "\n"
     ]
    },
    {
     "name": "stdout",
     "output_type": "stream",
     "text": [
      "0.017891030119510758                                                                                                   \n",
      " 54%|██████████████████████▌                   | 808/1500 [41:04<2:05:20, 10.87s/trial, best loss: 0.01781732755113601]"
     ]
    },
    {
     "name": "stderr",
     "output_type": "stream",
     "text": [
      "C:\\Users\\SUJAN\\AppData\\Local\\Temp\\ipykernel_28728\\3362559442.py:183: RuntimeWarning: overflow encountered in power\n",
      "  return 1 / (1 + np.e ** (-x))\n",
      "\n"
     ]
    },
    {
     "name": "stdout",
     "output_type": "stream",
     "text": [
      "0.01788285547654223                                                                                                    \n",
      "0.01789018529485682                                                                                                    \n",
      " 54%|██████████████████████▋                   | 810/1500 [41:17<1:32:17,  8.03s/trial, best loss: 0.01781732755113601]"
     ]
    },
    {
     "name": "stderr",
     "output_type": "stream",
     "text": [
      "C:\\Users\\SUJAN\\AppData\\Local\\Temp\\ipykernel_28728\\3362559442.py:183: RuntimeWarning: overflow encountered in power\n",
      "  return 1 / (1 + np.e ** (-x))\n",
      "\n"
     ]
    },
    {
     "name": "stdout",
     "output_type": "stream",
     "text": [
      "0.01789328187752159                                                                                                    \n",
      "0.018001627733145228                                                                                                   \n",
      "0.01798471935602729                                                                                                    \n",
      " 54%|██████████████████████▊                   | 813/1500 [41:37<1:31:57,  8.03s/trial, best loss: 0.01781732755113601]"
     ]
    },
    {
     "name": "stderr",
     "output_type": "stream",
     "text": [
      "C:\\Users\\SUJAN\\AppData\\Local\\Temp\\ipykernel_28728\\3362559442.py:183: RuntimeWarning: overflow encountered in power\n",
      "  return 1 / (1 + np.e ** (-x))\n",
      "\n"
     ]
    },
    {
     "name": "stdout",
     "output_type": "stream",
     "text": [
      "0.017896025881736232                                                                                                   \n",
      "0.017889093265273256                                                                                                   \n",
      "0.017891089012487104                                                                                                   \n",
      "0.017908347221926378                                                                                                   \n",
      "0.017831563991148477                                                                                                   \n",
      "0.01787984489049124                                                                                                    \n",
      "0.017900788262153872                                                                                                   \n",
      "0.018058706057686863                                                                                                   \n",
      "0.01788360049229322                                                                                                    \n",
      "0.017875982990320324                                                                                                   \n",
      "0.017892013741762205                                                                                                   \n",
      "0.01808851341749459                                                                                                    \n",
      "0.020351526902066038                                                                                                   \n",
      "0.017880860744058275                                                                                                   \n",
      " 55%|████████████████████████▎                   | 827/1500 [42:15<29:36,  2.64s/trial, best loss: 0.01781732755113601]"
     ]
    },
    {
     "name": "stderr",
     "output_type": "stream",
     "text": [
      "C:\\Users\\SUJAN\\AppData\\Local\\Temp\\ipykernel_28728\\3362559442.py:183: RuntimeWarning: overflow encountered in power\n",
      "  return 1 / (1 + np.e ** (-x))\n",
      "\n"
     ]
    },
    {
     "name": "stdout",
     "output_type": "stream",
     "text": [
      "0.017892343196497226                                                                                                   \n",
      "0.01797165972819119                                                                                                    \n",
      "0.01788839476262247                                                                                                    \n",
      "0.018403113768388834                                                                                                   \n",
      " 55%|████████████████████████▍                   | 831/1500 [42:27<31:29,  2.82s/trial, best loss: 0.01781732755113601]"
     ]
    },
    {
     "name": "stderr",
     "output_type": "stream",
     "text": [
      "C:\\Users\\SUJAN\\AppData\\Local\\Temp\\ipykernel_28728\\3362559442.py:183: RuntimeWarning: overflow encountered in power\n",
      "  return 1 / (1 + np.e ** (-x))\n",
      "\n"
     ]
    },
    {
     "name": "stdout",
     "output_type": "stream",
     "text": [
      "0.017952984344435406                                                                                                   \n",
      "0.017870790317438705                                                                                                   \n",
      "0.017910817656911476                                                                                                   \n",
      "0.017884068692742807                                                                                                   \n",
      "0.018510934836976883                                                                                                   \n",
      "0.01790146312766732                                                                                                    \n",
      " 56%|████████████████████████▌                   | 837/1500 [42:47<55:21,  5.01s/trial, best loss: 0.01781732755113601]"
     ]
    },
    {
     "name": "stderr",
     "output_type": "stream",
     "text": [
      "C:\\Users\\SUJAN\\AppData\\Local\\Temp\\ipykernel_28728\\3362559442.py:183: RuntimeWarning: overflow encountered in power\n",
      "  return 1 / (1 + np.e ** (-x))\n",
      "\n"
     ]
    },
    {
     "name": "stdout",
     "output_type": "stream",
     "text": [
      "0.017978650747660748                                                                                                   \n",
      "0.01789113042269073                                                                                                    \n",
      "0.018081103859654                                                                                                      \n",
      "0.01786900852049877                                                                                                    \n",
      "0.017906191103012614                                                                                                   \n",
      "0.018004470012732574                                                                                                   \n",
      "0.017875471175204324                                                                                                   \n",
      "0.018458531733198863                                                                                                   \n",
      "0.017887909163197633                                                                                                   \n",
      "0.018186174111532317                                                                                                   \n",
      "0.017988837841722425                                                                                                   \n",
      "0.017897888726361652                                                                                                   \n",
      "0.017937077254449818                                                                                                   \n",
      "0.01795601622196338                                                                                                    \n",
      "0.017878999952244023                                                                                                   \n",
      "0.01789980184660087                                                                                                    \n",
      " 57%|█████████████████████████                   | 853/1500 [43:41<31:49,  2.95s/trial, best loss: 0.01781732755113601]"
     ]
    },
    {
     "name": "stderr",
     "output_type": "stream",
     "text": [
      "C:\\Users\\SUJAN\\AppData\\Local\\Temp\\ipykernel_28728\\3362559442.py:183: RuntimeWarning: overflow encountered in power\n",
      "  return 1 / (1 + np.e ** (-x))\n",
      "\n"
     ]
    },
    {
     "name": "stdout",
     "output_type": "stream",
     "text": [
      "0.017886506060917805                                                                                                   \n",
      "0.017824857317644938                                                                                                   \n",
      "0.01788732829972765                                                                                                    \n",
      "0.017911121765214123                                                                                                   \n",
      "0.01787747307637068                                                                                                    \n",
      "0.0178741522096349                                                                                                     \n",
      "0.023207690628720353                                                                                                   \n",
      "0.01790355360246236                                                                                                    \n",
      "0.017898304934677072                                                                                                   \n",
      "0.0180090851079605                                                                                                     \n",
      " 58%|█████████████████████████▎                  | 863/1500 [44:08<23:35,  2.22s/trial, best loss: 0.01781732755113601]"
     ]
    },
    {
     "name": "stderr",
     "output_type": "stream",
     "text": [
      "C:\\Users\\SUJAN\\AppData\\Local\\Temp\\ipykernel_28728\\3362559442.py:183: RuntimeWarning: overflow encountered in power\n",
      "  return 1 / (1 + np.e ** (-x))\n",
      "\n"
     ]
    },
    {
     "name": "stdout",
     "output_type": "stream",
     "text": [
      "0.017874527190331835                                                                                                   \n",
      "0.017900677593967473                                                                                                   \n",
      "0.018338598176583655                                                                                                   \n",
      "0.017963100184067                                                                                                      \n",
      " 58%|█████████████████████████▍                  | 867/1500 [44:35<40:28,  3.84s/trial, best loss: 0.01781732755113601]"
     ]
    },
    {
     "name": "stderr",
     "output_type": "stream",
     "text": [
      "C:\\Users\\SUJAN\\AppData\\Local\\Temp\\ipykernel_28728\\3362559442.py:183: RuntimeWarning: overflow encountered in power\n",
      "  return 1 / (1 + np.e ** (-x))\n",
      "\n"
     ]
    },
    {
     "name": "stdout",
     "output_type": "stream",
     "text": [
      "0.017897755518748757                                                                                                   \n",
      "0.01801456360670824                                                                                                    \n",
      "0.017903616905113075                                                                                                   \n",
      " 58%|█████████████████████████▌                  | 870/1500 [44:47<39:18,  3.74s/trial, best loss: 0.01781732755113601]"
     ]
    },
    {
     "name": "stderr",
     "output_type": "stream",
     "text": [
      "C:\\Users\\SUJAN\\AppData\\Local\\Temp\\ipykernel_28728\\3362559442.py:183: RuntimeWarning: overflow encountered in power\n",
      "  return 1 / (1 + np.e ** (-x))\n",
      "\n"
     ]
    },
    {
     "name": "stdout",
     "output_type": "stream",
     "text": [
      "0.017874625730768517                                                                                                   \n",
      "0.01792207899830376                                                                                                    \n",
      "0.017895289927575372                                                                                                   \n",
      "0.017888108414742164                                                                                                   \n",
      "0.01797238756757416                                                                                                    \n",
      "0.017865547412739425                                                                                                   \n",
      "0.01787943329100172                                                                                                    \n",
      "0.01803631125674442                                                                                                    \n",
      "0.01783295101457679                                                                                                    \n",
      "0.017922797811563276                                                                                                   \n",
      "0.018222270553373745                                                                                                   \n",
      "0.01788801263914376                                                                                                    \n",
      "0.018864733524198228                                                                                                   \n",
      "0.01788594929462443                                                                                                    \n",
      "0.017888556256957046                                                                                                   \n",
      "0.01790592706755718                                                                                                    \n",
      "0.017959377561773047                                                                                                   \n",
      "0.017957235037159347                                                                                                   \n",
      "0.018762318003692758                                                                                                   \n",
      "0.017865367487540362                                                                                                   \n",
      "0.01788657194634743                                                                                                    \n",
      "0.0179189848711939                                                                                                     \n",
      "0.017862072326422337                                                                                                   \n",
      "0.018262196085222962                                                                                                   \n",
      "0.017882030008274874                                                                                                   \n",
      "0.01788852564830025                                                                                                    \n",
      "0.018222520149584424                                                                                                   \n",
      " 60%|██████████████████████████▎                 | 897/1500 [46:03<20:18,  2.02s/trial, best loss: 0.01781732755113601]"
     ]
    },
    {
     "name": "stderr",
     "output_type": "stream",
     "text": [
      "C:\\Users\\SUJAN\\AppData\\Local\\Temp\\ipykernel_28728\\3362559442.py:183: RuntimeWarning: overflow encountered in power\n",
      "  return 1 / (1 + np.e ** (-x))\n",
      "\n"
     ]
    },
    {
     "name": "stdout",
     "output_type": "stream",
     "text": [
      "0.017946185054779608                                                                                                   \n",
      " 60%|██████████████████████████▎                 | 898/1500 [46:10<35:07,  3.50s/trial, best loss: 0.01781732755113601]"
     ]
    },
    {
     "name": "stderr",
     "output_type": "stream",
     "text": [
      "C:\\Users\\SUJAN\\AppData\\Local\\Temp\\ipykernel_28728\\3362559442.py:183: RuntimeWarning: overflow encountered in power\n",
      "  return 1 / (1 + np.e ** (-x))\n",
      "\n"
     ]
    },
    {
     "name": "stdout",
     "output_type": "stream",
     "text": [
      "0.017875668605703356                                                                                                   \n",
      "0.017908067575905087                                                                                                   \n",
      "0.018047676940673038                                                                                                   \n",
      "0.01829518374541515                                                                                                    \n",
      "0.017894802190738388                                                                                                   \n",
      " 60%|██████████████████████████▍                 | 903/1500 [46:26<24:53,  2.50s/trial, best loss: 0.01781732755113601]"
     ]
    },
    {
     "name": "stderr",
     "output_type": "stream",
     "text": [
      "C:\\Users\\SUJAN\\AppData\\Local\\Temp\\ipykernel_28728\\3362559442.py:183: RuntimeWarning: overflow encountered in power\n",
      "  return 1 / (1 + np.e ** (-x))\n",
      "\n"
     ]
    },
    {
     "name": "stdout",
     "output_type": "stream",
     "text": [
      "0.01788051665477485                                                                                                    \n",
      "0.02189105282315894                                                                                                    \n",
      "0.01788587566962873                                                                                                    \n",
      "0.017898223860972926                                                                                                   \n",
      "0.018027110973215032                                                                                                   \n",
      "0.01787139594365789                                                                                                    \n",
      "0.01789295684125934                                                                                                    \n",
      "0.017882067328972056                                                                                                   \n",
      "0.01786235816359556                                                                                                    \n",
      "0.01788034605815533                                                                                                    \n",
      " 61%|██████████████████████████▊                 | 913/1500 [46:59<26:46,  2.74s/trial, best loss: 0.01781732755113601]"
     ]
    },
    {
     "name": "stderr",
     "output_type": "stream",
     "text": [
      "C:\\Users\\SUJAN\\AppData\\Local\\Temp\\ipykernel_28728\\3362559442.py:183: RuntimeWarning: overflow encountered in power\n",
      "  return 1 / (1 + np.e ** (-x))\n",
      "\n"
     ]
    },
    {
     "name": "stdout",
     "output_type": "stream",
     "text": [
      "0.01857506105615592                                                                                                    \n",
      "0.017903992032274524                                                                                                   \n",
      " 61%|██████████████████████████▊                 | 915/1500 [47:14<47:18,  4.85s/trial, best loss: 0.01781732755113601]"
     ]
    },
    {
     "name": "stderr",
     "output_type": "stream",
     "text": [
      "C:\\Users\\SUJAN\\AppData\\Local\\Temp\\ipykernel_28728\\3362559442.py:183: RuntimeWarning: overflow encountered in power\n",
      "  return 1 / (1 + np.e ** (-x))\n",
      "\n"
     ]
    },
    {
     "name": "stdout",
     "output_type": "stream",
     "text": [
      "0.01788681472108828                                                                                                    \n",
      "0.017952280146918423                                                                                                   \n",
      "0.01832932732093289                                                                                                    \n",
      "0.017881059445666703                                                                                                   \n",
      "0.031152724149368236                                                                                                   \n",
      "0.017896362023804326                                                                                                   \n",
      "0.019109633413137303                                                                                                   \n",
      "0.017876093369822033                                                                                                   \n",
      "0.01796362741661636                                                                                                    \n",
      "0.017900945586828476                                                                                                   \n",
      "0.01796057375494989                                                                                                    \n",
      "0.017950089540599547                                                                                                   \n",
      "0.018046842258611452                                                                                                   \n",
      "0.01787594495209664                                                                                                    \n",
      "0.0178947062665686                                                                                                     \n",
      "0.017907154258350474                                                                                                   \n",
      " 62%|███████████████████████████▎                | 931/1500 [47:48<12:02,  1.27s/trial, best loss: 0.01781732755113601]"
     ]
    },
    {
     "name": "stderr",
     "output_type": "stream",
     "text": [
      "C:\\Users\\SUJAN\\AppData\\Local\\Temp\\ipykernel_28728\\3362559442.py:183: RuntimeWarning: overflow encountered in power\n",
      "  return 1 / (1 + np.e ** (-x))\n",
      "\n"
     ]
    },
    {
     "name": "stdout",
     "output_type": "stream",
     "text": [
      "0.017874643154342906                                                                                                   \n",
      "0.01781920772515577                                                                                                    \n",
      "0.017884943177103436                                                                                                   \n",
      "0.01789127502541463                                                                                                    \n",
      "0.01796078962744745                                                                                                    \n",
      "0.017886912082240934                                                                                                   \n",
      "0.017965122579080995                                                                                                   \n",
      "0.01787485844632536                                                                                                    \n",
      "0.017957485386328097                                                                                                   \n",
      "0.03433710929430927                                                                                                    \n",
      "0.017909472594977636                                                                                                   \n",
      "0.017893153701721218                                                                                                   \n",
      "0.018116579342348057                                                                                                   \n",
      "0.0184452042877014                                                                                                     \n",
      "0.018022710245195098                                                                                                   \n",
      "0.017854321237549205                                                                                                   \n",
      "0.01790019548049182                                                                                                    \n",
      "0.01794032334733142                                                                                                    \n",
      "0.01790303071032669                                                                                                    \n",
      "0.017889215080357592                                                                                                   \n",
      "0.018033633457955917                                                                                                   \n",
      "0.01788644842778041                                                                                                    \n",
      "0.01792747822872569                                                                                                    \n",
      "0.017892996840162892                                                                                                   \n",
      "0.017885701610099516                                                                                                   \n",
      "0.017870308967543064                                                                                                   \n",
      "0.017889456495049763                                                                                                   \n",
      "0.017875803544791055                                                                                                   \n",
      "0.01784228198374688                                                                                                    \n",
      "0.0179519256955828                                                                                                     \n",
      "0.017917669468540807                                                                                                   \n",
      "0.01815318968306746                                                                                                    \n",
      "0.017890481390355272                                                                                                   \n",
      "0.017896429709922387                                                                                                   \n",
      "0.017867572285861603                                                                                                   \n",
      "0.017890361342142568                                                                                                   \n",
      "0.017879800792616952                                                                                                   \n",
      "0.017969579899234523                                                                                                   \n",
      "0.1224439198574208                                                                                                     \n",
      "0.01827481222046                                                                                                       \n",
      "0.017875738362790168                                                                                                   \n",
      "0.017883443297252444                                                                                                   \n",
      "0.017917665190861735                                                                                                   \n",
      "0.02079307609567886                                                                                                    \n",
      "0.017882455671078597                                                                                                   \n",
      "0.017873314660237293                                                                                                   \n",
      "0.017961431961983024                                                                                                   \n",
      "0.017901011972688                                                                                                      \n",
      "0.017942953364517674                                                                                                   \n",
      "0.05730822093030721                                                                                                    \n",
      "0.017928154422242024                                                                                                   \n",
      "0.01821212058354811                                                                                                    \n",
      "0.017803728877552757                                                                                                   \n",
      "0.017870337366596104                                                                                                   \n",
      "0.017809472359437924                                                                                                   \n",
      "0.01791054049805745                                                                                                    \n",
      "0.017903971172672232                                                                                                   \n",
      "0.017883610650686835                                                                                                   \n",
      "0.017893535790373637                                                                                                   \n",
      "0.017887664787363096                                                                                                   \n",
      "0.017884665585603386                                                                                                   \n",
      "0.017891292798462896                                                                                                   \n",
      "0.017881691037164815                                                                                                   \n",
      "0.01788022300768526                                                                                                    \n",
      "0.017823130642017418                                                                                                   \n",
      "0.017882890952014428                                                                                                   \n",
      "0.017898882159873432                                                                                                   \n",
      "0.01790366826526864                                                                                                    \n"
     ]
    },
    {
     "name": "stdout",
     "output_type": "stream",
     "text": [
      "0.017811660507771856                                                                                                   \n",
      "0.017892691560389192                                                                                                   \n",
      "0.017853280505208555                                                                                                   \n",
      "0.01791563381620547                                                                                                    \n",
      "0.017899233493460894                                                                                                   \n",
      "0.01788057062358411                                                                                                    \n",
      "0.017878977925615058                                                                                                   \n",
      "0.0179023083033166                                                                                                     \n",
      "0.01787874080669385                                                                                                    \n",
      "0.017879303873334224                                                                                                   \n",
      "0.017893038554201227                                                                                                   \n",
      "0.01788941378171172                                                                                                    \n",
      "0.017882628409552914                                                                                                   \n",
      "0.017897584745971952                                                                                                   \n",
      "0.017873659595817507                                                                                                   \n",
      "0.017812158787710523                                                                                                   \n",
      "0.017887956515698022                                                                                                   \n",
      "0.017880388902374214                                                                                                   \n",
      "0.0178795052757006                                                                                                     \n",
      "0.017898328570077324                                                                                                   \n",
      "0.017885677834206685                                                                                                   \n",
      "0.01788008642873217                                                                                                    \n",
      "0.017914981366735118                                                                                                   \n",
      "0.017826885104942                                                                                                      \n",
      "0.01790715461354823                                                                                                    \n",
      "0.017907040303668575                                                                                                   \n",
      "0.017785061000400202                                                                                                   \n",
      "0.017804565603618372                                                                                                   \n",
      "0.01781134672471014                                                                                                    \n",
      "0.01782234683793563                                                                                                    \n",
      "0.017818523955489694                                                                                                   \n",
      "0.01782318984841333                                                                                                    \n",
      "0.01780353177253524                                                                                                    \n",
      "0.017879232516868994                                                                                                   \n",
      "0.017889515200639833                                                                                                   \n",
      "0.017887222777058114                                                                                                   \n",
      "0.017890233821887768                                                                                                   \n",
      "0.017887263686223683                                                                                                   \n",
      "0.017880998339877205                                                                                                   \n",
      "0.01789927051405432                                                                                                    \n",
      "0.017861034066815953                                                                                                   \n",
      "0.017880811224285326                                                                                                   \n",
      "0.017882260133952055                                                                                                   \n",
      "0.017892583103675905                                                                                                   \n",
      "0.017878656768427394                                                                                                   \n",
      "0.017880056126501287                                                                                                   \n",
      "0.017877272683772427                                                                                                   \n",
      "0.017894763366876225                                                                                                   \n",
      "0.017830166468585814                                                                                                   \n",
      "0.017875168202243292                                                                                                   \n",
      "0.017885409383597218                                                                                                   \n",
      "0.017874934749249262                                                                                                   \n",
      "0.017878134871658326                                                                                                   \n",
      "0.01788135356041836                                                                                                    \n",
      "0.017894881916161863                                                                                                   \n",
      "0.017883143554780833                                                                                                   \n",
      "0.01786922191213178                                                                                                    \n",
      "0.017879635170630712                                                                                                   \n",
      "0.017883515229947737                                                                                                   \n",
      "0.01783755245736825                                                                                                    \n",
      "0.017876672604424382                                                                                                   \n",
      "0.017896738246256767                                                                                                   \n",
      "0.017873793509140094                                                                                                   \n",
      "0.01787575771182815                                                                                                    \n",
      "0.017879217296056366                                                                                                   \n",
      "0.017876759273296024                                                                                                   \n",
      "0.017893165387270715                                                                                                   \n",
      "0.01785293705894634                                                                                                    \n"
     ]
    },
    {
     "name": "stdout",
     "output_type": "stream",
     "text": [
      "0.017879867426139864                                                                                                   \n",
      "0.017876955367281025                                                                                                   \n",
      "0.017827682543050595                                                                                                   \n",
      "0.017896520747317467                                                                                                   \n",
      "0.017886869464302076                                                                                                   \n",
      "0.017879327877352674                                                                                                   \n",
      "0.017868308857029603                                                                                                   \n",
      "0.01787517406852991                                                                                                    \n",
      "0.01788391716174823                                                                                                    \n",
      "0.01788636695974485                                                                                                    \n",
      "0.017853640559552908                                                                                                   \n",
      "0.017868791258548195                                                                                                   \n",
      "0.0178754916635002                                                                                                     \n",
      "0.017879251102084895                                                                                                   \n",
      "0.017877900522285304                                                                                                   \n",
      "0.017875074821186724                                                                                                   \n",
      "0.01786744598209042                                                                                                    \n",
      "0.0178767502195885                                                                                                     \n",
      "0.017887769823372385                                                                                                   \n",
      "0.017812908415647765                                                                                                   \n",
      "0.017902276545865205                                                                                                   \n",
      "0.01790202367285324                                                                                                    \n",
      "0.017893269229705657                                                                                                   \n",
      "0.017911784563592995                                                                                                   \n",
      "0.017918069761488582                                                                                                   \n",
      "0.01789904753341835                                                                                                    \n",
      "0.01791279571109711                                                                                                    \n",
      "0.0179005882285714                                                                                                     \n",
      "0.01781972090110119                                                                                                    \n",
      "0.01789991406121973                                                                                                    \n",
      "0.01789847877197398                                                                                                    \n",
      "0.017909808765783283                                                                                                   \n",
      "0.017829975177524368                                                                                                   \n",
      "0.01788960673448176                                                                                                    \n",
      "0.017884501246821                                                                                                      \n",
      "0.017880645401976862                                                                                                   \n",
      "0.017881690452137316                                                                                                   \n",
      "0.017897789630485945                                                                                                   \n",
      "0.017885553690056708                                                                                                   \n",
      "0.017878843984870777                                                                                                   \n",
      "0.017812879945521606                                                                                                   \n",
      "0.01788302179694126                                                                                                    \n",
      "0.01787903534852766                                                                                                    \n",
      "0.0178836031477818                                                                                                     \n",
      "0.01790437597028178                                                                                                    \n",
      "0.017876627906790937                                                                                                   \n",
      "0.017893088129005568                                                                                                   \n",
      "0.017879581825082848                                                                                                   \n",
      "0.01790752451155337                                                                                                    \n",
      "0.01787934320029592                                                                                                    \n",
      "0.01788038072879924                                                                                                    \n",
      "0.017878792169351114                                                                                                   \n",
      "0.01787504723814367                                                                                                    \n",
      "0.017901281504746323                                                                                                   \n",
      "0.01793490428133555                                                                                                    \n",
      "0.017846062986281233                                                                                                   \n",
      "0.017881508760452948                                                                                                   \n",
      "0.017893000097263616                                                                                                   \n",
      "0.01786187145335697                                                                                                    \n",
      "0.017884052061651667                                                                                                   \n",
      "0.017872103483179337                                                                                                   \n",
      "0.017895026318243027                                                                                                   \n",
      "0.01787055460976599                                                                                                    \n",
      "0.01787343012341152                                                                                                    \n",
      "0.017843700500924754                                                                                                   \n",
      "0.01786811993355195                                                                                                    \n",
      "0.0179378525073538                                                                                                     \n",
      "0.017884495808540825                                                                                                   \n"
     ]
    },
    {
     "name": "stdout",
     "output_type": "stream",
     "text": [
      "0.017876042016059333                                                                                                   \n",
      "0.017879449885682665                                                                                                   \n",
      "0.017879466223449575                                                                                                   \n",
      "0.017895037145911338                                                                                                   \n",
      "0.01787159974800818                                                                                                    \n",
      "0.017883746088332354                                                                                                   \n",
      "0.017868530604381754                                                                                                   \n",
      "0.017882706637732296                                                                                                   \n",
      "0.01781496713053494                                                                                                    \n",
      "0.01781607001610082                                                                                                    \n",
      "0.017874115545688744                                                                                                   \n",
      "0.017871675683155123                                                                                                   \n",
      "0.017902875200518246                                                                                                   \n",
      "0.017879587114791616                                                                                                   \n",
      "0.017888149975252232                                                                                                   \n",
      "0.0178660814956995                                                                                                     \n",
      "0.017921945162663874                                                                                                   \n",
      "0.01788408243050588                                                                                                    \n",
      "0.017894004914295387                                                                                                   \n",
      "0.01786998971619889                                                                                                    \n",
      "0.017909963520543734                                                                                                   \n",
      "0.017877902556228235                                                                                                   \n",
      "0.017892167872785865                                                                                                   \n",
      "0.017869694922833898                                                                                                   \n",
      "0.017877294105953012                                                                                                   \n",
      "0.0178051054415524                                                                                                     \n",
      "0.017870765414487386                                                                                                   \n",
      "0.017874358234852825                                                                                                   \n",
      "0.017877968068179696                                                                                                   \n",
      "0.017881187903079694                                                                                                   \n",
      "0.017866898680343024                                                                                                   \n",
      "0.017867907138725738                                                                                                   \n",
      "0.01787239576773068                                                                                                    \n",
      "0.017874824560712935                                                                                                   \n",
      "0.017879162147617044                                                                                                   \n",
      "0.01787099196936328                                                                                                    \n",
      "0.017800639102225863                                                                                                   \n",
      "0.017956040518718536                                                                                                   \n",
      "0.017882096726369347                                                                                                   \n",
      "0.017948501939018712                                                                                                   \n",
      "0.01787695378935324                                                                                                    \n",
      "0.017870564500990595                                                                                                   \n",
      "0.017967147794387402                                                                                                   \n",
      "0.017870163036844668                                                                                                   \n",
      "0.017867230180437274                                                                                                   \n",
      "0.017963451092922647                                                                                                   \n",
      "0.017865433559837055                                                                                                   \n",
      "0.025099678529112306                                                                                                   \n",
      "0.0178722895949225                                                                                                     \n",
      "0.0178771240474305                                                                                                     \n",
      "0.017965546938434142                                                                                                   \n",
      "0.017881692279712234                                                                                                   \n",
      "0.017878154415311827                                                                                                   \n",
      "0.017941929542033518                                                                                                   \n",
      "0.017881479629601873                                                                                                   \n",
      "0.017860829966619144                                                                                                   \n",
      "0.017956257360447283                                                                                                   \n",
      "0.01795637958388827                                                                                                    \n",
      "0.01788909960879071                                                                                                    \n",
      "0.017872195896739735                                                                                                   \n",
      "0.01793925493264628                                                                                                    \n",
      "0.0178930750065116                                                                                                     \n",
      "0.01782468854796257                                                                                                    \n",
      "0.017864868545868003                                                                                                   \n",
      "0.017964915786583657                                                                                                   \n",
      "0.017880286126583232                                                                                                   \n",
      "0.01802329066317581                                                                                                    \n",
      "0.017996155126658676                                                                                                   \n"
     ]
    },
    {
     "name": "stdout",
     "output_type": "stream",
     "text": [
      "0.017894838829868125                                                                                                   \n",
      "0.017970258144852827                                                                                                   \n",
      "0.017803342341763076                                                                                                   \n",
      "0.0178811121515547                                                                                                     \n",
      "0.018457144232851365                                                                                                   \n",
      "0.01804494022515925                                                                                                    \n",
      "0.01781316238927272                                                                                                    \n",
      "0.018025255194496943                                                                                                   \n",
      "0.017909695225930194                                                                                                   \n",
      "0.017992308540970687                                                                                                   \n",
      "0.017992818073184                                                                                                      \n",
      "0.017955101832126535                                                                                                   \n",
      "0.01785505146045155                                                                                                    \n",
      "0.0178806867477454                                                                                                     \n",
      "0.01788006927770032                                                                                                    \n",
      "0.01790972419078288                                                                                                    \n",
      "0.01801783676086708                                                                                                    \n",
      "0.017996407918842543                                                                                                   \n",
      "0.01787117922091457                                                                                                    \n",
      "0.017865785736353154                                                                                                   \n",
      "0.017964671387627192                                                                                                   \n",
      "0.017945084112622595                                                                                                   \n",
      "0.017877302967942304                                                                                                   \n",
      "0.018061054813080995                                                                                                   \n",
      "0.023462381449493825                                                                                                   \n",
      "0.01787561920303137                                                                                                    \n",
      "0.01789018539071864                                                                                                    \n",
      "0.017988173174063492                                                                                                   \n",
      "0.017901264496315506                                                                                                   \n",
      "0.017939506399114426                                                                                                   \n",
      "0.01788015190339577                                                                                                    \n",
      "0.01792982906099098                                                                                                    \n",
      "0.018090802462303088                                                                                                   \n",
      "0.017879372498226163                                                                                                   \n",
      "0.017960988938858356                                                                                                   \n",
      "0.017899731320148334                                                                                                   \n",
      "0.01797612686650473                                                                                                    \n",
      "0.017823924556064116                                                                                                   \n",
      "0.01785577362881811                                                                                                    \n",
      "0.01854820726213245                                                                                                    \n",
      "0.017874663182633078                                                                                                   \n",
      "0.018628925992261056                                                                                                   \n",
      "0.017814794888518934                                                                                                   \n",
      "0.01788269840683605                                                                                                    \n",
      "0.017888858470206867                                                                                                   \n",
      "0.017874211523999543                                                                                                   \n",
      "0.017905043161239118                                                                                                   \n",
      "0.017886836848845244                                                                                                   \n",
      "0.01795805133267698                                                                                                    \n",
      "0.017953995945423663                                                                                                   \n",
      "0.017891517872532892                                                                                                   \n",
      "0.018143083444943586                                                                                                   \n",
      "0.01791981964587078                                                                                                    \n",
      "0.018845521482666026                                                                                                   \n",
      "0.017892100571188747                                                                                                   \n",
      "0.01788946984926276                                                                                                    \n",
      "0.01787645379700534                                                                                                    \n",
      "0.017881933916159137                                                                                                   \n",
      "0.018005081538715103                                                                                                   \n",
      "0.017978187131784673                                                                                                   \n",
      "0.017884623698264303                                                                                                   \n",
      "0.017987412119377395                                                                                                   \n",
      "0.017874245667273518                                                                                                   \n",
      "0.01790760008534871                                                                                                    \n",
      "0.01786283262205404                                                                                                    \n",
      "0.017899359266499874                                                                                                   \n",
      "0.017878978127008855                                                                                                   \n",
      "0.017961449683778306                                                                                                   \n"
     ]
    },
    {
     "name": "stdout",
     "output_type": "stream",
     "text": [
      "0.017891234388063608                                                                                                   \n",
      "0.01786504403192031                                                                                                    \n",
      "0.017934746698462692                                                                                                   \n",
      "0.017820581320548742                                                                                                   \n",
      "0.017955359892345552                                                                                                   \n",
      "0.017877965082745417                                                                                                   \n",
      "0.017883045539851563                                                                                                   \n",
      "0.017891847412249938                                                                                                   \n",
      "0.01789364976229271                                                                                                    \n",
      "0.01800044388264683                                                                                                    \n",
      "0.017942926420663863                                                                                                   \n",
      "0.01794312931616723                                                                                                    \n",
      "0.01789843446878606                                                                                                    \n",
      "0.017873751984377125                                                                                                   \n",
      "0.02278791318535148                                                                                                    \n",
      "0.01791474220100678                                                                                                    \n",
      "0.01804976928325042                                                                                                    \n",
      "0.017962204453305295                                                                                                   \n",
      "0.01788847574767804                                                                                                    \n",
      "0.017944424231768223                                                                                                   \n",
      "0.01793212205444755                                                                                                    \n",
      "0.01799817092222968                                                                                                    \n",
      "0.018346362516636336                                                                                                   \n",
      "0.01790745358990838                                                                                                    \n",
      "0.017879241008291677                                                                                                   \n",
      "0.01798781972623096                                                                                                    \n",
      "0.01780284416703765                                                                                                    \n",
      "0.017808040755753908                                                                                                   \n",
      "0.01780344977760764                                                                                                    \n",
      "0.01781371148044164                                                                                                    \n",
      "0.017806709892771277                                                                                                   \n",
      "0.01780616035275511                                                                                                    \n",
      "0.01779938839940636                                                                                                    \n",
      "0.01778648699553814                                                                                                    \n",
      "0.017873950118120437                                                                                                   \n",
      "0.017802208590378385                                                                                                   \n",
      "0.017868879983226168                                                                                                   \n",
      "0.017867101328252748                                                                                                   \n",
      "0.017867254696067657                                                                                                   \n",
      "0.017867148580676763                                                                                                   \n",
      "0.01785725350619997                                                                                                    \n",
      "0.0178751673430158                                                                                                     \n",
      "0.01786784684246629                                                                                                    \n",
      "0.017872292154324575                                                                                                   \n",
      "0.01787388121016775                                                                                                    \n",
      "0.01787535687812917                                                                                                    \n",
      "0.017882770585770577                                                                                                   \n",
      "0.01786878026594209                                                                                                    \n",
      "0.017868398771377407                                                                                                   \n",
      "0.017871884995937698                                                                                                   \n",
      "0.01780454171758976                                                                                                    \n",
      "0.017863173815034626                                                                                                   \n",
      "0.017865607527613545                                                                                                   \n",
      "0.017882961677313756                                                                                                   \n",
      "0.017866254187549703                                                                                                   \n",
      "0.01789962694233436                                                                                                    \n",
      "0.017879339017091614                                                                                                   \n",
      "0.017874765333927106                                                                                                   \n",
      "0.017968650150222216                                                                                                   \n",
      "0.017875904554441623                                                                                                   \n",
      "0.01780373120145532                                                                                                    \n",
      "0.017891926092724844                                                                                                   \n",
      "0.2667703057369683                                                                                                     \n",
      "0.018523184739499304                                                                                                   \n",
      "0.01787588751871538                                                                                                    \n",
      "0.01787209482413597                                                                                                    \n",
      "0.017956634016691744                                                                                                   \n",
      "0.01784526912602361                                                                                                    \n"
     ]
    },
    {
     "name": "stdout",
     "output_type": "stream",
     "text": [
      "0.017894695540928575                                                                                                   \n",
      "0.017998605993980506                                                                                                   \n",
      "0.01794464604750223                                                                                                    \n",
      "0.017874588469104395                                                                                                   \n",
      "0.017876640799563876                                                                                                   \n",
      "0.01789304145918757                                                                                                    \n",
      "0.017870822582766708                                                                                                   \n",
      "0.017875835102309487                                                                                                   \n",
      "0.017811936162987096                                                                                                   \n",
      "0.021546091691872465                                                                                                   \n",
      "0.017866967509524725                                                                                                   \n",
      "0.017956901046615265                                                                                                   \n",
      "0.01790261100858891                                                                                                    \n",
      "0.018070194454627573                                                                                                   \n",
      "0.017876251284957755                                                                                                   \n",
      "0.017886215807523777                                                                                                   \n",
      "0.01791284036343187                                                                                                    \n",
      "0.01795878490124114                                                                                                    \n",
      "0.017877426895760187                                                                                                   \n",
      "0.01795022350405271                                                                                                    \n",
      "0.017868580131645113                                                                                                   \n",
      "0.01789270345156316                                                                                                    \n",
      "0.017943332004135767                                                                                                   \n",
      "0.017975396220441142                                                                                                   \n",
      "0.01810815927664422                                                                                                    \n",
      "0.017864694173495902                                                                                                   \n",
      "0.017960844380539628                                                                                                   \n",
      "0.017841038215736814                                                                                                   \n",
      "0.017877655614300388                                                                                                   \n",
      "0.018159880033690335                                                                                                   \n",
      "0.017873026499504476                                                                                                   \n",
      "0.017840727214989652                                                                                                   \n",
      "0.01794976062366047                                                                                                    \n",
      "0.017886191349075493                                                                                                   \n",
      "0.017905972369807177                                                                                                   \n",
      "0.017932009503609916                                                                                                   \n",
      "0.01788609896693065                                                                                                    \n",
      "0.01789400158177204                                                                                                    \n",
      "0.01794367734141088                                                                                                    \n",
      "0.017885414043013234                                                                                                   \n",
      "0.017932785806020386                                                                                                   \n",
      "0.019024964725216264                                                                                                   \n",
      "0.01794890500058932                                                                                                    \n",
      "0.017870194563903614                                                                                                   \n",
      "0.017959680897872463                                                                                                   \n",
      "0.017876199921451976                                                                                                   \n",
      "0.01788023938762963                                                                                                    \n",
      "0.017969239794938342                                                                                                   \n",
      "0.017937830864955647                                                                                                   \n",
      "0.01784490601369614                                                                                                    \n",
      "0.017869441880972784                                                                                                   \n",
      "0.018053151823045364                                                                                                   \n",
      "0.01788173720887515                                                                                                    \n",
      "0.01792428606591726                                                                                                    \n",
      "0.01788492381528269                                                                                                    \n",
      "0.01788390534118864                                                                                                    \n",
      "0.01787516375541837                                                                                                    \n",
      "0.018421027984379834                                                                                                   \n",
      "0.01788929741462521                                                                                                    \n",
      "0.018002687127879                                                                                                      \n",
      "0.018251252147396663                                                                                                   \n",
      "0.017956903818043022                                                                                                   \n",
      "0.017876395272605254                                                                                                   \n",
      "0.018088649198152593                                                                                                   \n",
      "0.01781862572624951                                                                                                    \n",
      "0.017932124856016328                                                                                                   \n",
      "0.017903436942341523                                                                                                   \n",
      "0.017876975071911123                                                                                                   \n"
     ]
    },
    {
     "name": "stdout",
     "output_type": "stream",
     "text": [
      "0.01784836617964409                                                                                                    \n",
      "0.017943865969958877                                                                                                   \n",
      "0.017906153781421488                                                                                                   \n",
      "0.017866881893362482                                                                                                   \n",
      "0.01805762201785577                                                                                                    \n",
      "0.01803888439488573                                                                                                    \n",
      "0.017968965113590914                                                                                                   \n",
      "0.017881855873209843                                                                                                   \n",
      "0.01821351639111098                                                                                                    \n",
      "0.017868588349795708                                                                                                   \n",
      "0.017881097761413108                                                                                                   \n",
      "0.017879107981288337                                                                                                   \n",
      "0.017886773004594535                                                                                                   \n",
      "0.017898749509959847                                                                                                   \n",
      "0.017806325886677216                                                                                                   \n",
      "0.017962257554185058                                                                                                   \n",
      "0.01795568795522754                                                                                                    \n",
      "0.017890010431714228                                                                                                   \n",
      "0.017872751223046213                                                                                                   \n",
      "0.017970532546966445                                                                                                   \n",
      "0.01789947802726829                                                                                                    \n",
      "0.01830338195119903                                                                                                    \n",
      "0.017860306634007606                                                                                                   \n",
      "0.017965016695381007                                                                                                   \n",
      "0.03241482461653946                                                                                                    \n",
      "0.017880553600514937                                                                                                   \n",
      "0.017885878358099502                                                                                                   \n",
      "0.018205161964828718                                                                                                   \n",
      "0.017867135716320603                                                                                                   \n",
      "0.017946425051210926                                                                                                   \n",
      "0.01789599018603268                                                                                                    \n",
      "0.017870799535865664                                                                                                   \n",
      "0.017871804438611895                                                                                                   \n",
      "0.017897061043313203                                                                                                   \n",
      "0.017944500545073135                                                                                                   \n",
      "0.017956598632924786                                                                                                   \n",
      "0.026999626579670675                                                                                                   \n",
      "0.017882212850759745                                                                                                   \n",
      "0.017904888852770792                                                                                                   \n",
      "0.01802188227507011                                                                                                    \n",
      "0.017928326124622154                                                                                                   \n",
      "0.017874976737026586                                                                                                   \n",
      "0.017883429345120005                                                                                                   \n",
      "0.017938339894697734                                                                                                   \n",
      "0.017899304643638814                                                                                                   \n",
      "0.01789837701425214                                                                                                    \n",
      "0.017876688187424092                                                                                                   \n",
      "0.01787084860946488                                                                                                    \n",
      "0.017871633360973076                                                                                                   \n",
      "0.017868038888097064                                                                                                   \n",
      "0.01812846840120515                                                                                                    \n",
      "0.017885218165283937                                                                                                   \n",
      "0.01803063650015667                                                                                                    \n",
      "0.018330028997759942                                                                                                   \n",
      "0.017865633837894822                                                                                                   \n",
      "0.017959129574281182                                                                                                   \n",
      "0.018060808717442183                                                                                                   \n",
      "0.01811712987773668                                                                                                    \n",
      "0.017890632794983003                                                                                                   \n",
      "0.01780839776797952                                                                                                    \n",
      "0.017980334861873955                                                                                                   \n",
      "0.017886033787779934                                                                                                   \n",
      "0.01793814465652686                                                                                                    \n",
      "0.017882081458052774                                                                                                   \n",
      "0.017946272316511292                                                                                                   \n",
      "0.017911434441169057                                                                                                   \n",
      "0.017877031813646766                                                                                                   \n",
      "0.018259092616925394                                                                                                   \n"
     ]
    },
    {
     "name": "stdout",
     "output_type": "stream",
     "text": [
      "0.017834414679360748                                                                                                   \n",
      "0.01881795634200313                                                                                                    \n",
      "0.017861159831452325                                                                                                   \n",
      "0.01791683290405547                                                                                                    \n",
      "0.017873710766495174                                                                                                   \n",
      "0.017891878217035525                                                                                                   \n",
      "0.017880310903627444                                                                                                   \n",
      "0.017920924233836445                                                                                                   \n",
      "0.01788962856508934                                                                                                    \n",
      "0.017956484309679176                                                                                                   \n",
      "0.01787371900413124                                                                                                    \n",
      "0.018019687660772773                                                                                                   \n",
      "0.01794729871618312                                                                                                    \n",
      "0.01788817465409343                                                                                                    \n",
      "0.01796246375523074                                                                                                    \n",
      "0.017879916109872378                                                                                                   \n",
      "0.02349960732237674                                                                                                    \n",
      "0.018830038683556906                                                                                                   \n",
      "0.01789101432728268                                                                                                    \n",
      "0.018309705338711423                                                                                                   \n",
      "0.017946334510122886                                                                                                   \n",
      "0.018133831134937623                                                                                                   \n",
      "0.017872055592698714                                                                                                   \n",
      "0.01786912116456858                                                                                                    \n",
      "0.018184721760265123                                                                                                   \n",
      "100%|████████████████████████████████████████| 1500/1500 [1:11:01<00:00,  2.84s/trial, best loss: 0.017785061000400202]\n"
     ]
    }
   ],
   "source": [
    "def optimize(trials, space):\n",
    "    \n",
    "    best = fmin(Obj, space, algo=tpe.suggest, max_evals=1500)\n",
    "    return best\n",
    "\n",
    "trials = Trials()\n",
    "\n",
    "\n",
    "best_params = optimize(trials, space)"
   ]
  },
  {
   "cell_type": "code",
   "execution_count": 49,
   "id": "4ebae100",
   "metadata": {},
   "outputs": [
    {
     "data": {
      "text/plain": [
       "{'activation': 'hardlim',\n",
       " 'b_random_vec_range': (-2, 0),\n",
       " 'lam': 0.9450136957371148,\n",
       " 'n_layer': 1,\n",
       " 'n_nodes': 265,\n",
       " 'w_random_vec_range': (-2, 0)}"
      ]
     },
     "execution_count": 49,
     "metadata": {},
     "output_type": "execute_result"
    }
   ],
   "source": [
    "from hyperopt import hp, fmin, tpe, space_eval,Trials\n",
    "# Return the best parameters\n",
    "best_hp=space_eval(space, best_params)\n",
    "best_hp"
   ]
  },
  {
   "cell_type": "code",
   "execution_count": 50,
   "id": "818421de",
   "metadata": {},
   "outputs": [],
   "source": [
    "num_nodes = best_hp['n_nodes']\n",
    "activation = best_hp['activation']\n",
    "regular_para = best_hp['lam']\n",
    "num_layer = best_hp['n_layer']\n",
    "weight_random_range = best_hp['w_random_vec_range']\n",
    "bias_random_range = best_hp['b_random_vec_range']\n"
   ]
  },
  {
   "cell_type": "code",
   "execution_count": 51,
   "id": "b4d06b31",
   "metadata": {},
   "outputs": [],
   "source": [
    "deep_rvfl = EnsembleDeepRVFL(n_nodes=num_nodes, lam=regular_para, w_random_vec_range=weight_random_range,\n",
    "                             b_random_vec_range=bias_random_range, activation='relu', \n",
    "                             n_layer=num_layer, same_feature=False,\n",
    "                     task_type='regression')"
   ]
  },
  {
   "cell_type": "code",
   "execution_count": 52,
   "id": "bac3ce7b",
   "metadata": {},
   "outputs": [],
   "source": [
    "# Train the model\n",
    "deep_rvfl.train(X_train, y_train,0)\n",
    "\n",
    "# Make predictions\n",
    "predictions = deep_rvfl.predict(X_test)\n",
    "\n",
    "# Inverse transform the predictions to the original scale\n",
    "predictions_original_scale = scaler.inverse_transform(predictions.reshape(-1, 1))\n",
    "\n",
    "# Inverse transform the y_test to the original scale for evaluation\n",
    "y_test_original_scale = scaler.inverse_transform(y_test.reshape(-1, 1))"
   ]
  },
  {
   "cell_type": "code",
   "execution_count": 53,
   "id": "ceefa018",
   "metadata": {},
   "outputs": [
    {
     "data": {
      "image/png": "[encoded data removed]",
      "text/plain": [
       "<Figure size 1200x600 with 1 Axes>"
      ]
     },
     "metadata": {},
     "output_type": "display_data"
    }
   ],
   "source": [
    "import matplotlib.pyplot as plt\n",
    "# Plotting the results\n",
    "plt.figure(figsize=(12, 6))\n",
    "plt.plot(y_test_original_scale, label='Actual Closing Price', color='blue')\n",
    "plt.plot(predictions_original_scale, label='Predicted Closing Price', color='red', linestyle='dashed')\n",
    "plt.title('Actual vs Predicted Closing Price')\n",
    "plt.xlabel('Data Points')\n",
    "plt.ylabel('Closing Price')\n",
    "plt.legend()\n",
    "plt.show()"
   ]
  },
  {
   "cell_type": "code",
   "execution_count": 54,
   "id": "137d3ef9",
   "metadata": {},
   "outputs": [
    {
     "name": "stderr",
     "output_type": "stream",
     "text": [
      "C:\\Users\\SUJAN\\AppData\\Roaming\\Python\\Python311\\site-packages\\numpy\\lib\\function_base.py:2889: RuntimeWarning: Degrees of freedom <= 0 for slice\n",
      "  c = cov(x, y, rowvar, dtype=dtype)\n",
      "C:\\Users\\SUJAN\\AppData\\Roaming\\Python\\Python311\\site-packages\\numpy\\lib\\function_base.py:2748: RuntimeWarning: divide by zero encountered in divide\n",
      "  c *= np.true_divide(1, fact)\n",
      "C:\\Users\\SUJAN\\AppData\\Roaming\\Python\\Python311\\site-packages\\numpy\\lib\\function_base.py:2748: RuntimeWarning: invalid value encountered in multiply\n",
      "  c *= np.true_divide(1, fact)\n"
     ]
    }
   ],
   "source": [
    "from sklearn.metrics import mean_squared_error, mean_absolute_error, r2_score\n",
    "y_test=y_test_original_scale.copy()\n",
    "predictions=predictions_original_scale.copy()\n",
    "# Calculate Root Mean Squared Error (RMSE)\n",
    "rmse = np.sqrt(mean_squared_error(y_test, predictions))\n",
    "\n",
    "# Calculate Mean Squared Error (MSE)\n",
    "mse = mean_squared_error(y_test, predictions)\n",
    "\n",
    "# Calculate Relative Root Mean Squared Error (RRMSE)\n",
    "rrmse = rmse / np.mean(y_test)\n",
    "\n",
    "# Calculate Relative Mean Absolute Error (RMAE)\n",
    "rmae = mean_absolute_error(y_test, predictions) / np.mean(y_test)\n",
    "\n",
    "# Theil's U Statistic\n",
    "theil_u = np.sqrt(np.mean((predictions - y_test) ** 2) / np.mean(y_test ** 2))\n",
    "\n",
    "# Kling-Gupta Efficiency (KGE)\n",
    "def kge(y_true, y_pred):\n",
    "    std_true, std_pred = np.std(y_true), np.std(y_pred)\n",
    "    mean_true, mean_pred = np.mean(y_true), np.mean(y_pred)\n",
    "    correlation = np.corrcoef(y_true, y_pred)[0, 1]\n",
    "    kge_value = 1 - np.sqrt((correlation - 1) ** 2 + (std_pred / std_true - 1) ** 2 + (mean_pred / mean_true - 1) ** 2)\n",
    "    return kge_value\n",
    "\n",
    "kge_value = kge(y_test, predictions)\n",
    "\n",
    "# Absolute Percentage Bias (APB)\n",
    "apb = np.mean(np.abs((y_test - predictions) / y_test)) * 100\n",
    "\n",
    "# Legates metric\n",
    "legates_metric = 1 - (np.sum((y_test - predictions) ** 2) / np.sum((np.abs(predictions - np.mean(y_test)) + np.abs(y_test - np.mean(y_test))) ** 2))\n",
    "\n",
    "# Nash-Sutcliffe Efficiency (NSE)\n",
    "nse = 1 - np.sum((y_test - predictions) ** 2) / np.sum((y_test - np.mean(y_test)) ** 2)\n",
    "\n",
    "# Willmott's Index of Agreement (d)\n",
    "d = 1 - (np.sum((np.abs(y_test - predictions)) ** 2) / np.sum((np.abs(predictions - np.mean(y_test)) + np.abs(y_test - np.mean(y_test))) ** 2))\n",
    "\n",
    "# Standard Deviation of Error (SDE)\n",
    "sde = np.std(y_test - predictions)\n",
    "\n",
    "# Maximum Error\n",
    "max_error = np.max(np.abs(y_test - predictions))\n",
    "\n",
    "# Minimum Error\n",
    "min_error = np.min(np.abs(y_test - predictions))\n",
    "\n",
    "# Calculate Mean Absolute Error (MAE)\n",
    "mae = mean_absolute_error(y_test, predictions)\n",
    "\n",
    "# Calculate R-squared (R2) score\n",
    "r2 = r2_score(y_test, predictions)"
   ]
  },
  {
   "cell_type": "code",
   "execution_count": 55,
   "id": "d0da7b34",
   "metadata": {},
   "outputs": [
    {
     "data": {
      "text/html": [
       "<div>\n",
       "<style scoped>\n",
       "    .dataframe tbody tr th:only-of-type {\n",
       "        vertical-align: middle;\n",
       "    }\n",
       "\n",
       "    .dataframe tbody tr th {\n",
       "        vertical-align: top;\n",
       "    }\n",
       "\n",
       "    .dataframe thead th {\n",
       "        text-align: right;\n",
       "    }\n",
       "</style>\n",
       "<table border=\"1\" class=\"dataframe\">\n",
       "  <thead>\n",
       "    <tr style=\"text-align: right;\">\n",
       "      <th></th>\n",
       "      <th>Metric</th>\n",
       "      <th>Value</th>\n",
       "    </tr>\n",
       "  </thead>\n",
       "  <tbody>\n",
       "    <tr>\n",
       "      <th>0</th>\n",
       "      <td>Root Mean Squared Error (RMSE)</td>\n",
       "      <td>1.478</td>\n",
       "    </tr>\n",
       "    <tr>\n",
       "      <th>1</th>\n",
       "      <td>Mean Squared Error (MSE)</td>\n",
       "      <td>2.183</td>\n",
       "    </tr>\n",
       "    <tr>\n",
       "      <th>2</th>\n",
       "      <td>Mean Absolute Error (MAE)</td>\n",
       "      <td>0.939</td>\n",
       "    </tr>\n",
       "    <tr>\n",
       "      <th>3</th>\n",
       "      <td>Relative Root Mean Squared Error (RRMSE)</td>\n",
       "      <td>0.026</td>\n",
       "    </tr>\n",
       "    <tr>\n",
       "      <th>4</th>\n",
       "      <td>Relative Mean Absolute Error (RMAE)</td>\n",
       "      <td>0.016</td>\n",
       "    </tr>\n",
       "    <tr>\n",
       "      <th>5</th>\n",
       "      <td>Theil's U Statistic (TU)</td>\n",
       "      <td>0.025</td>\n",
       "    </tr>\n",
       "    <tr>\n",
       "      <th>6</th>\n",
       "      <td>Kling-Gupta Efficiency (KGE)</td>\n",
       "      <td>NaN</td>\n",
       "    </tr>\n",
       "    <tr>\n",
       "      <th>7</th>\n",
       "      <td>Absolute Percentage Bias (APB)</td>\n",
       "      <td>1.626</td>\n",
       "    </tr>\n",
       "    <tr>\n",
       "      <th>8</th>\n",
       "      <td>Legates metric (LM)</td>\n",
       "      <td>0.997</td>\n",
       "    </tr>\n",
       "    <tr>\n",
       "      <th>9</th>\n",
       "      <td>Nash-Sutcliffe Efficiency (NSE)</td>\n",
       "      <td>0.987</td>\n",
       "    </tr>\n",
       "    <tr>\n",
       "      <th>10</th>\n",
       "      <td>Willmott's Index of Agreement (d)</td>\n",
       "      <td>0.997</td>\n",
       "    </tr>\n",
       "    <tr>\n",
       "      <th>11</th>\n",
       "      <td>Standard Deviation of Error (SDE)</td>\n",
       "      <td>1.477</td>\n",
       "    </tr>\n",
       "    <tr>\n",
       "      <th>12</th>\n",
       "      <td>Legates metric</td>\n",
       "      <td>0.997</td>\n",
       "    </tr>\n",
       "    <tr>\n",
       "      <th>13</th>\n",
       "      <td>Nash-Sutcliffe Efficiency (NSE)</td>\n",
       "      <td>0.987</td>\n",
       "    </tr>\n",
       "    <tr>\n",
       "      <th>14</th>\n",
       "      <td>Maximum Error (emax)</td>\n",
       "      <td>8.375</td>\n",
       "    </tr>\n",
       "    <tr>\n",
       "      <th>15</th>\n",
       "      <td>Minimum Error(emin)</td>\n",
       "      <td>0.006</td>\n",
       "    </tr>\n",
       "    <tr>\n",
       "      <th>16</th>\n",
       "      <td>Mean Absolute Error (MAE)</td>\n",
       "      <td>0.939</td>\n",
       "    </tr>\n",
       "    <tr>\n",
       "      <th>17</th>\n",
       "      <td>R-squared (R2) Score</td>\n",
       "      <td>0.987</td>\n",
       "    </tr>\n",
       "  </tbody>\n",
       "</table>\n",
       "</div>"
      ],
      "text/plain": [
       "                                      Metric  Value\n",
       "0             Root Mean Squared Error (RMSE)  1.478\n",
       "1                   Mean Squared Error (MSE)  2.183\n",
       "2                  Mean Absolute Error (MAE)  0.939\n",
       "3   Relative Root Mean Squared Error (RRMSE)  0.026\n",
       "4        Relative Mean Absolute Error (RMAE)  0.016\n",
       "5                   Theil's U Statistic (TU)  0.025\n",
       "6               Kling-Gupta Efficiency (KGE)    NaN\n",
       "7             Absolute Percentage Bias (APB)  1.626\n",
       "8                        Legates metric (LM)  0.997\n",
       "9            Nash-Sutcliffe Efficiency (NSE)  0.987\n",
       "10         Willmott's Index of Agreement (d)  0.997\n",
       "11         Standard Deviation of Error (SDE)  1.477\n",
       "12                            Legates metric  0.997\n",
       "13           Nash-Sutcliffe Efficiency (NSE)  0.987\n",
       "14                      Maximum Error (emax)  8.375\n",
       "15                       Minimum Error(emin)  0.006\n",
       "16                 Mean Absolute Error (MAE)  0.939\n",
       "17                      R-squared (R2) Score  0.987"
      ]
     },
     "execution_count": 55,
     "metadata": {},
     "output_type": "execute_result"
    }
   ],
   "source": [
    "from io import StringIO\n",
    "table = [\n",
    "    [\"Root Mean Squared Error (RMSE)\", rmse],\n",
    "    [\"Mean Squared Error (MSE)\", mse],\n",
    "    [\"Mean Absolute Error (MAE)\", mae],\n",
    "    [\"Relative Root Mean Squared Error (RRMSE)\", rrmse],\n",
    "    [\"Relative Mean Absolute Error (RMAE)\", rmae],\n",
    "    [\"Theil\\'s U Statistic (TU)\", theil_u],\n",
    "    [\"Kling-Gupta Efficiency (KGE)\", kge_value],\n",
    "    [\"Absolute Percentage Bias (APB)\", apb],\n",
    "    [\"Legates metric (LM)\", legates_metric],\n",
    "    [\"Nash-Sutcliffe Efficiency (NSE)\", nse],\n",
    "    [\"Willmott's Index of Agreement (d)\", d],\n",
    "    [\"Standard Deviation of Error (SDE)\", sde],\n",
    "    [\"Legates metric\", legates_metric],\n",
    "    [\"Nash-Sutcliffe Efficiency (NSE)\", nse],\n",
    "    [\"Maximum Error (emax)\", max_error],\n",
    "    [\"Minimum Error(emin)\", min_error],\n",
    "    [\"Mean Absolute Error (MAE)\", mae],\n",
    "    [\"R-squared (R2) Score\", r2]\n",
    "]\n",
    "# Create a DataFrame\n",
    "df = pd.DataFrame(table, columns=[\"Metric\", \"Value\"])\n",
    "df_metrics = df.round(3)\n",
    "df_metrics"
   ]
  },
  {
   "cell_type": "code",
   "execution_count": null,
   "id": "56194fb2",
   "metadata": {},
   "outputs": [],
   "source": []
  }
 ],
 "metadata": {
  "kernelspec": {
   "display_name": "Python 3",
   "language": "python",
   "name": "python3"
  },
  "language_info": {
   "codemirror_mode": {
    "name": "ipython",
    "version": 3
   },
   "file_extension": ".py",
   "mimetype": "text/x-python",
   "name": "python",
   "nbconvert_exporter": "python",
   "pygments_lexer": "ipython3",
   "version": "3.11.5"
  }
 },
 "nbformat": 4,
 "nbformat_minor": 5
}
